{
 "cells": [
  {
   "cell_type": "code",
   "execution_count": null,
   "metadata": {},
   "outputs": [],
   "source": [
    "import numpy as np\n",
    "import mne\n",
    "import scipy.io as sio\n",
    "import hdf5storage\n",
    "import os"
   ]
  },
  {
   "cell_type": "code",
   "execution_count": null,
   "metadata": {},
   "outputs": [],
   "source": [
    "#Test with a single night\n",
    "\n",
    "path_raw_data = '//uni.au.dk/dfs/Tech_EarEEG/Students/RD2022_Artefact_AkselStark/data/1A/study_1A_mat_simple/S_01/night_1/EEG_raw.mat'\n",
    "path_cleaned_data = '//uni.au.dk/dfs/Tech_EarEEG/Students/RD2022_Artefact_AkselStark/data/1A/study_1A_mat_simple_cleaned/S_01/night_1/EEG_raw.mat'\n",
    "\n",
    "print('loading data')\n",
    "data_raw = hdf5storage.loadmat(path_raw_data)\n",
    "print(\"raw data loaded\")\n",
    "\n",
    "#data_cleaned = hdf5storage.loadmat(path_cleaned_data)['data']\n",
    "#print(\"clean data loaded\")"
   ]
  },
  {
   "cell_type": "code",
   "execution_count": 1,
   "metadata": {},
   "outputs": [
    {
     "name": "stdout",
     "output_type": "stream",
     "text": [
      "debug\n"
     ]
    }
   ],
   "source": [
    "print('debug')"
   ]
  },
  {
   "cell_type": "code",
   "execution_count": null,
   "metadata": {},
   "outputs": [],
   "source": [
    "\n",
    "labels = data_raw['chanlabels'].reshape(25).tolist() #channel labels needed to load data with MNE\n",
    "\n",
    "#A line to first load a nights data into mne, then resample to 250 hz, then get the numpy array out again with ._data\n",
    "data = mne.io.RawArray(data_raw['data'], mne.create_info(labels,500)).resample(250)._data\n"
   ]
  },
  {
   "cell_type": "code",
   "execution_count": null,
   "metadata": {},
   "outputs": [],
   "source": [
    "clean_data_dir = '//uni.au.dk/dfs/Tech_EarEEG/Students/RD2022_Artefact_AkselStark/data/1A/study_1A_mat_simple_cleaned'\n",
    "raw_data_dir = '//uni.au.dk/dfs/Tech_EarEEG/Students/RD2022_Artefact_AkselStark/data/1A/study_1A_mat_simple'\n",
    "\n",
    "#Run through all the cleaned EEG files\n",
    "for subdir, dirs, files in os.walk(raw_data_dir):\n",
    "    for file in files:\n",
    "        if \"EEG\" in file:\n",
    "            print(os.path.join(subdir, file))\n",
    "            data_raw = hdf5storage.loadmat(os.path.join(subdir, file))\n",
    "            print('Raw data loaded')\n",
    "\n",
    "            #Labels are needed for MNE. Imported, reshaped and converted to list\n",
    "            labels = data_raw['chanlabels'].reshape(25).tolist() #channel labels needed to load data with MNE\n",
    "\n",
    "\n",
    "            # First load a nights data into mne, then resample to 250 hz, then get the numpy array out again with ._data\n",
    "            data = mne.io.RawArray(data_raw['data'], mne.create_info(labels,500)).resample(250)._data\n",
    "            print('downsampling complete')\n",
    "\n",
    "            # change NaN to 0, and save downsampled data, and add to new file\n",
    "            np.save(f'{os.path.join(subdir)}/EEG_raw_250hz', np.nan_to_num(data))\n",
    "\n",
    "            print(f'Done: {subdir}')"
   ]
  }
 ],
 "metadata": {
  "interpreter": {
   "hash": "2c71e2635ddc78baa0539050ec2b1f1c0228e09439b3b78f4d2f134097ad8afd"
  },
  "kernelspec": {
   "display_name": "Python 3.9.4 64-bit",
   "language": "python",
   "name": "python3"
  },
  "language_info": {
   "codemirror_mode": {
    "name": "ipython",
    "version": 3
   },
   "file_extension": ".py",
   "mimetype": "text/x-python",
   "name": "python",
   "nbconvert_exporter": "python",
   "pygments_lexer": "ipython3",
   "version": "3.9.4"
  },
  "orig_nbformat": 4
 },
 "nbformat": 4,
 "nbformat_minor": 2
}
