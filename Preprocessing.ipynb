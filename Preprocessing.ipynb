{
 "cells": [
  {
   "cell_type": "code",
   "execution_count": 4,
   "metadata": {},
   "outputs": [
    {
     "name": "stdout",
     "output_type": "stream",
     "text": [
      "Defaulting to user installation because normal site-packages is not writeable\n",
      "Requirement already satisfied: mne in /home/aron/.local/lib/python3.8/site-packages (1.0.0)\n",
      "Requirement already satisfied: tqdm in /opt/anaconda-2020.11/lib/python3.8/site-packages (from mne) (4.50.2)\n",
      "Requirement already satisfied: numpy>=1.15.4 in /opt/anaconda-2020.11/lib/python3.8/site-packages (from mne) (1.19.2)\n",
      "Requirement already satisfied: decorator in /home/aron/.local/lib/python3.8/site-packages (from mne) (5.1.1)\n",
      "Requirement already satisfied: packaging in /home/aron/.local/lib/python3.8/site-packages (from mne) (21.3)\n",
      "Requirement already satisfied: jinja2 in /opt/anaconda-2020.11/lib/python3.8/site-packages (from mne) (2.11.2)\n",
      "Requirement already satisfied: pooch>=1.5 in /home/aron/.local/lib/python3.8/site-packages (from mne) (1.6.0)\n",
      "Requirement already satisfied: scipy>=1.1.0 in /opt/anaconda-2020.11/lib/python3.8/site-packages (from mne) (1.5.2)\n",
      "Requirement already satisfied: matplotlib in /opt/anaconda-2020.11/lib/python3.8/site-packages (from mne) (3.3.2)\n",
      "Requirement already satisfied: requests>=2.19.0 in /opt/anaconda-2020.11/lib/python3.8/site-packages (from pooch>=1.5->mne) (2.24.0)\n",
      "Requirement already satisfied: appdirs>=1.3.0 in /home/aron/.local/lib/python3.8/site-packages (from pooch>=1.5->mne) (1.4.4)\n",
      "Requirement already satisfied: pyparsing!=3.0.5,>=2.0.2 in /opt/anaconda-2020.11/lib/python3.8/site-packages (from packaging->mne) (2.4.7)\n",
      "Requirement already satisfied: MarkupSafe>=0.23 in /opt/anaconda-2020.11/lib/python3.8/site-packages (from jinja2->mne) (1.1.1)\n",
      "Requirement already satisfied: cycler>=0.10 in /opt/anaconda-2020.11/lib/python3.8/site-packages (from matplotlib->mne) (0.10.0)\n",
      "Requirement already satisfied: kiwisolver>=1.0.1 in /opt/anaconda-2020.11/lib/python3.8/site-packages (from matplotlib->mne) (1.3.0)\n",
      "Requirement already satisfied: python-dateutil>=2.1 in /opt/anaconda-2020.11/lib/python3.8/site-packages (from matplotlib->mne) (2.8.1)\n",
      "Requirement already satisfied: certifi>=2020.06.20 in /opt/anaconda-2020.11/lib/python3.8/site-packages (from matplotlib->mne) (2020.6.20)\n",
      "Requirement already satisfied: pillow>=6.2.0 in /opt/anaconda-2020.11/lib/python3.8/site-packages (from matplotlib->mne) (8.0.1)\n",
      "Requirement already satisfied: six in /opt/anaconda-2020.11/lib/python3.8/site-packages (from cycler>=0.10->matplotlib->mne) (1.15.0)\n",
      "Requirement already satisfied: urllib3!=1.25.0,!=1.25.1,<1.26,>=1.21.1 in /opt/anaconda-2020.11/lib/python3.8/site-packages (from requests>=2.19.0->pooch>=1.5->mne) (1.25.11)\n",
      "Requirement already satisfied: chardet<4,>=3.0.2 in /opt/anaconda-2020.11/lib/python3.8/site-packages (from requests>=2.19.0->pooch>=1.5->mne) (3.0.4)\n",
      "Requirement already satisfied: idna<3,>=2.5 in /opt/anaconda-2020.11/lib/python3.8/site-packages (from requests>=2.19.0->pooch>=1.5->mne) (2.10)\n",
      "Defaulting to user installation because normal site-packages is not writeable\n",
      "Collecting hdf5storage\n",
      "  Downloading hdf5storage-0.1.18-py2.py3-none-any.whl (53 kB)\n",
      "\u001b[2K     \u001b[90m━━━━━━━━━━━━━━━━━━━━━━━━━━━━━━━━━━━━━━━━\u001b[0m \u001b[32m53.1/53.1 KB\u001b[0m \u001b[31m2.5 MB/s\u001b[0m eta \u001b[36m0:00:00\u001b[0m\n",
      "\u001b[?25hRequirement already satisfied: numpy in /opt/anaconda-2020.11/lib/python3.8/site-packages (from hdf5storage) (1.19.2)\n",
      "Requirement already satisfied: h5py>=2.1 in /opt/anaconda-2020.11/lib/python3.8/site-packages (from hdf5storage) (2.10.0)\n",
      "Requirement already satisfied: six in /opt/anaconda-2020.11/lib/python3.8/site-packages (from h5py>=2.1->hdf5storage) (1.15.0)\n",
      "Installing collected packages: hdf5storage\n",
      "Successfully installed hdf5storage-0.1.18\n"
     ]
    }
   ],
   "source": [
    "!pip install mne\n",
    "!pip install hdf5storage"
   ]
  },
  {
   "cell_type": "code",
   "execution_count": 5,
   "metadata": {},
   "outputs": [],
   "source": [
    "import numpy as np\n",
    "import mne\n",
    "import scipy.io as sio\n",
    "import hdf5storage\n",
    "import os\n",
    "import math\n"
   ]
  },
  {
   "cell_type": "code",
   "execution_count": null,
   "metadata": {},
   "outputs": [],
   "source": [
    "#Test with a single night\n",
    "\n",
    "path_raw_data = '//uni.au.dk/dfs/Tech_EarEEG/Students/RD2022_Artefact_AkselStark/data/1A/study_1A_mat_simple/S_01/night_1/EEG_raw.mat'\n",
    "path_cleaned_data = '//uni.au.dk/dfs/Tech_EarEEG/Students/RD2022_Artefact_AkselStark/data/1A/study_1A_mat_simple_cleaned/S_01/night_1/EEG_raw.mat'\n",
    "\n",
    "print('loading data')\n",
    "data_raw = hdf5storage.loadmat(path_raw_data)\n",
    "print(\"raw data loaded\")\n",
    "\n",
    "#data_cleaned = hdf5storage.loadmat(path_cleaned_data)['data']\n",
    "#print(\"clean data loaded\")"
   ]
  },
  {
   "cell_type": "code",
   "execution_count": null,
   "metadata": {},
   "outputs": [],
   "source": [
    "print('debug')"
   ]
  },
  {
   "cell_type": "code",
   "execution_count": null,
   "metadata": {},
   "outputs": [],
   "source": [
    "\n",
    "labels = data_raw['chanlabels'].reshape(25).tolist() #channel labels needed to load data with MNE\n",
    "\n",
    "# A line to first load a nights data into mne, then resample to 250 hz, then get the numpy array out again with ._data\n",
    "# Data is converted to 32 bit\n",
    "data = mne.io.RawArray(data_raw['data'], mne.create_info(labels,500)).resample(250)._data.astype(\"float32\")"
   ]
  },
  {
   "cell_type": "code",
   "execution_count": null,
   "metadata": {},
   "outputs": [],
   "source": [
    "# This section processes the data, and creates files inside the original folder structure.\n",
    "\n",
    "clean_data_dir = '//uni.au.dk/dfs/Tech_EarEEG/Students/RD2022_Artefact_AkselStark/data/1A/study_1A_mat_simple_cleaned'\n",
    "raw_data_dir = '//uni.au.dk/dfs/Tech_EarEEG/Students/RD2022_Artefact_AkselStark/data/1A/study_1A_mat_simple'\n",
    "\n",
    "# Run through all the cleaned EEG files\n",
    "for subdir, dirs, files in os.walk(raw_data_dir):\n",
    "    for file in files:\n",
    "        if \"EEG\" in file and not \"250hz\" in file:\n",
    "            print(os.path.join(subdir, file))\n",
    "            data_raw = hdf5storage.loadmat(os.path.join(subdir, file))\n",
    "            print('Raw data loaded')\n",
    "\n",
    "            # Labels are needed for MNE. Imported, reshaped and converted to list\n",
    "            labels = data_raw['chanlabels'].reshape(25).tolist() #channel labels needed to load data with MNE\n",
    "\n",
    "\n",
    "            # First load a nights data into mne, then resample to 250 hz, then get the numpy array out again with ._data\n",
    "            # Data is converted to 32 bit\n",
    "            data = mne.io.RawArray(data_raw['data'], mne.create_info(labels,500)).resample(250)._data.astype(\"float32\")\n",
    "            print('downsampling complete')\n",
    "\n",
    "            # change NaN to 0, and save downsampled data, and add to new file\n",
    "            np.save(f'{os.path.join(subdir)}/EEG_raw_250hz', np.nan_to_num(data))\n",
    "\n",
    "            print(f'Done: {subdir}')"
   ]
  },
  {
   "cell_type": "code",
   "execution_count": null,
   "metadata": {},
   "outputs": [],
   "source": []
  }
 ],
 "metadata": {
  "interpreter": {
   "hash": "2c71e2635ddc78baa0539050ec2b1f1c0228e09439b3b78f4d2f134097ad8afd"
  },
  "kernelspec": {
   "display_name": "Python 3 (ipykernel)",
   "language": "python",
   "name": "python3"
  },
  "language_info": {
   "codemirror_mode": {
    "name": "ipython",
    "version": 3
   },
   "file_extension": ".py",
   "mimetype": "text/x-python",
   "name": "python",
   "nbconvert_exporter": "python",
   "pygments_lexer": "ipython3",
   "version": "3.8.5"
  }
 },
 "nbformat": 4,
 "nbformat_minor": 2
}
