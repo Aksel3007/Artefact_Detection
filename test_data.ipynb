{
 "cells": [
  {
   "cell_type": "code",
   "execution_count": null,
   "metadata": {},
   "outputs": [],
   "source": [
    "# Function to filter mne raw signal\n",
    "def filter_signal(raw, l_freq, h_freq, picks=None):\n",
    "    raw.filter(l_freq, h_freq, picks=picks)\n",
    "    #raw.plot(block=True) # Plot the mne raw EEG filtered data\n",
    "    return raw\n",
    "    \n",
    "    \n",
    "# This section processes the data, and creates files inside the original folder structure.\n",
    "import numpy as np\n",
    "import mne\n",
    "import scipy.io as sio\n",
    "import hdf5storage\n",
    "import os\n",
    "import math\n",
    "\n",
    "\n",
    "\n",
    "clean_data_dir = '//uni.au.dk/dfs/Tech_EarEEG/Students/RD2022_Artefact_AkselStark/data/1A/study_1A_mat_simple_cleaned'\n",
    "#raw_data_dir = '//uni.au.dk/dfs/Tech_EarEEG/Students/RD2022_Artefact_AkselStark/data/1A/study_1A_mat_simple'\n",
    "raw_data_dir = '../data/study_1A_mat_simple/S_01/night_1'\n",
    "\n",
    "# Run through all the cleaned EEG files\n",
    "for subdir, dirs, files in sorted(os.walk(raw_data_dir)):\n",
    "    for file in files:\n",
    "        if \"EEG\" in file and not \"250hz\" in file:\n",
    "            print(os.path.join(subdir, file))\n",
    "            data_raw = hdf5storage.loadmat(os.path.join(subdir, file))\n",
    "            print('Raw data loaded')\n",
    "\n",
    "            # Labels are needed for MNE. Imported, reshaped and converted to list\n",
    "            labels = data_raw['chanlabels'].reshape(25).tolist() #channel labels needed to load data with MNE\n",
    "        \n",
    "            # First load a nights data into mne, then resample to 250 hz, then get the numpy array out again with ._data\n",
    "            # Data is converted to 32 bit\n",
    "            npdata = np.nan_to_num(data_raw['data'])# change nan to 0 to enable downsampling\n",
    "            \n",
    "            mne_data_raw = mne.io.RawArray(npdata, mne.create_info(labels,500))\n",
    "            \n",
    "        # if the file is filtered, load that in as well\n",
    "        if \"250hz\" in file:\n",
    "            print(os.path.join(subdir, file))\n",
    "            #load the filtered data from numpy file\n",
    "            data = np.load(os.path.join(subdir, file)) \n",
    "            mne_data_filtered = mne.io.RawArray(data, mne.create_info(labels,250))\n",
    "            \n",
    "# Plot both mne signals\n",
    "mne_data_raw.plot(block=True)\n",
    "mne_data_filtered.plot(block=True)\n",
    "\n",
    "print(\"debug\")"
   ]
  },
  {
   "cell_type": "code",
   "execution_count": null,
   "metadata": {},
   "outputs": [],
   "source": [
    "import matplotlib.pyplot as plt\n",
    "#Convert to numpy array\n",
    "def convert_to_numpy(mne_data):\n",
    "    return mne_data._data\n",
    "\n",
    "raw = convert_to_numpy(mne_data_raw)\n",
    "filtered = convert_to_numpy(mne_data_filtered)\n",
    "\n",
    "# Compare the 2 signals by plotting segments of the data\n",
    "def plot_segments(raw, filtered, sectionLength):\n",
    "    # Plot the first 10 seconds of the raw data\n",
    "    raw_segment = raw[0:sectionLength*2,:]\n",
    "    filtered_segment = filtered[0:sectionLength,:]\n",
    "    plt.plot(raw_segment)\n",
    "    plt.plot(filtered_segment)\n",
    "    plt.show()\n",
    "    \n",
    "plot_segments(raw, filtered, 1000)"
   ]
  },
  {
   "cell_type": "code",
   "execution_count": 1,
   "metadata": {},
   "outputs": [
    {
     "name": "stdout",
     "output_type": "stream",
     "text": [
      "Classification dataset version: apr-10-22-v2\n",
      "../data/study_1A_mat_simple/S_01/night_1/artefact_annotations.npy\n",
      "../data/study_1A_mat_simple/S_01/night_1/EEG_raw_250hz.npy\n",
      "../data/study_1A_mat_simple/S_01/night_2/artefact_annotations.npy\n",
      "../data/study_1A_mat_simple/S_01/night_2/EEG_raw_250hz.npy\n",
      "../data/study_1A_mat_simple/S_01/night_3/artefact_annotations.npy\n",
      "../data/study_1A_mat_simple/S_01/night_3/EEG_raw_250hz.npy\n",
      "../data/study_1A_mat_simple/S_01/night_4/artefact_annotations.npy\n",
      "../data/study_1A_mat_simple/S_01/night_4/EEG_raw_250hz.npy\n",
      "../data/study_1A_mat_simple/S_02/night_1/artefact_annotations.npy\n",
      "../data/study_1A_mat_simple/S_02/night_1/EEG_raw_250hz.npy\n",
      "../data/study_1A_mat_simple/S_02/night_2/artefact_annotations.npy\n",
      "Lables for night 0 loaded\n",
      "../data/study_1A_mat_simple/S_02/night_2/EEG_raw_250hz.npy\n",
      "Night 0 data loaded\n",
      "../data/study_1A_mat_simple/S_01/night_1/artefact_annotations.npy\n",
      "../data/study_1A_mat_simple/S_01/night_1/EEG_raw_250hz_unfiltered.npy\n",
      "../data/study_1A_mat_simple/S_01/night_2/artefact_annotations.npy\n",
      "../data/study_1A_mat_simple/S_01/night_2/EEG_raw_250hz_unfiltered.npy\n",
      "../data/study_1A_mat_simple/S_01/night_3/artefact_annotations.npy\n",
      "../data/study_1A_mat_simple/S_01/night_3/EEG_raw_250hz_unfiltered.npy\n",
      "../data/study_1A_mat_simple/S_01/night_4/artefact_annotations.npy\n",
      "../data/study_1A_mat_simple/S_01/night_4/EEG_raw_250hz_unfiltered.npy\n",
      "../data/study_1A_mat_simple/S_02/night_1/artefact_annotations.npy\n",
      "../data/study_1A_mat_simple/S_02/night_1/EEG_raw_250hz_unfiltered.npy\n",
      "../data/study_1A_mat_simple/S_02/night_2/artefact_annotations.npy\n",
      "Lables for night 0 loaded\n",
      "../data/study_1A_mat_simple/S_02/night_2/EEG_raw_250hz_unfiltered.npy\n",
      "Night 0 data loaded\n"
     ]
    }
   ],
   "source": [
    "# # Test if filtering works, by plotting filtered and unfiltered data\n",
    "\n",
    "import matplotlib.pyplot as plt\n",
    "from dataset_copy import EEGDataset\n",
    "import numpy as np\n",
    "import os\n",
    "import random\n",
    "\n",
    "raw_data_dir = '../data'\n",
    "\n",
    "segment_length = 2000\n",
    "\n",
    "filtered_data = EEGDataset(raw_data_dir,1, segment_length,skips = 5, filtered = True)\n",
    "unfiltered_data = EEGDataset(raw_data_dir,1, segment_length,skips = 5, filtered = False)\n",
    "\n"
   ]
  },
  {
   "cell_type": "code",
   "execution_count": 8,
   "metadata": {},
   "outputs": [
    {
     "name": "stdout",
     "output_type": "stream",
     "text": [
      "Index:  14876\n",
      "filtered\n"
     ]
    },
    {
     "data": {
      "image/png": "[encoded data removed]",
      "text/plain": [
       "<Figure size 432x288 with 1 Axes>"
      ]
     },
     "metadata": {
      "needs_background": "light"
     },
     "output_type": "display_data"
    },
    {
     "name": "stdout",
     "output_type": "stream",
     "text": [
      "unfiltered\n"
     ]
    },
    {
     "data": {
      "image/png": "[encoded data removed]",
      "text/plain": [
       "<Figure size 432x288 with 1 Axes>"
      ]
     },
     "metadata": {
      "needs_background": "light"
     },
     "output_type": "display_data"
    }
   ],
   "source": [
    "\n",
    "for i in range(1):\n",
    "    index = random.randint(0,filtered_data.__len__())\n",
    "    print(\"Index: \", index)\n",
    "    filt = filtered_data[index]\n",
    "    unfilt = unfiltered_data[index]\n",
    "    if filt[1]:color = 'red' # Red if artefact, green otherwise\n",
    "    else: color = 'green'\n",
    "    \n",
    "    \n",
    "    print(\"filtered\")\n",
    "    plt.semilogy(filt[0][0:segment_length], color = color)\n",
    "    plt.title(\"Data segment\") \n",
    "    plt.show()\n",
    "    \n",
    "    print(\"unfiltered\")\n",
    "    plt.semilogy(unfilt[0][0:segment_length], color = color)\n",
    "    plt.title(\"Data segment\") \n",
    "    plt.show()"
   ]
  }
 ],
 "metadata": {
  "interpreter": {
   "hash": "31f2aee4e71d21fbe5cf8b01ff0e069b9275f58929596ceb00d14d90e3e16cd6"
  },
  "kernelspec": {
   "display_name": "Python 3 (ipykernel)",
   "language": "python",
   "name": "python3"
  },
  "language_info": {
   "codemirror_mode": {
    "name": "ipython",
    "version": 3
   },
   "file_extension": ".py",
   "mimetype": "text/x-python",
   "name": "python",
   "nbconvert_exporter": "python",
   "pygments_lexer": "ipython3",
   "version": "3.9.7"
  }
 },
 "nbformat": 4,
 "nbformat_minor": 4
}
