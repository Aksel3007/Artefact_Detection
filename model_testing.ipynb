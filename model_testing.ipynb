{
 "cells": [
  {
   "cell_type": "markdown",
   "metadata": {},
   "source": [
    "# Model Testing\n",
    "\n",
    "## This notebook is meant to load trained models, and test their performance\n",
    "\n"
   ]
  },
  {
   "cell_type": "code",
   "execution_count": 3,
   "metadata": {},
   "outputs": [],
   "source": [
    "import os\n",
    "import torch\n",
    "import numpy as np\n",
    "from torch import nn\n",
    "from torch.utils.data import DataLoader\n",
    "from dataset_spectrogram import EEGDataset\n",
    "from torch.utils.data import random_split\n",
    "import neptune.new as neptune\n",
    "from torchinfo import summary\n",
    "from dataset_spectrogram import load_dataset\n",
    "import random\n",
    "import torch.utils.data as data\n",
    "from datetime import datetime"
   ]
  },
  {
   "cell_type": "code",
   "execution_count": 4,
   "metadata": {},
   "outputs": [],
   "source": [
    "# Load a saved model\n",
    "\n",
    "device = 'cuda' if torch.cuda.is_available() else 'cpu' #Check for cuda \n",
    "\n",
    "model = torch.jit.load(\"../trained_models/model_05_11_2022_09_02_10\",map_location=device)\n"
   ]
  },
  {
   "cell_type": "markdown",
   "metadata": {},
   "source": [
    "### Load and test with 50-50 test dataset"
   ]
  },
  {
   "cell_type": "code",
   "execution_count": 9,
   "metadata": {},
   "outputs": [
    {
     "name": "stdout",
     "output_type": "stream",
     "text": [
      "\n",
      "Test set\n",
      "\n",
      "../data/study_1A_mat_simple/S_01/night_1/spectrogram_bad_segments_unnormalized.npy\n",
      "../data/study_1A_mat_simple/S_01/night_1/spectrogram_good_segments_unnormalized.npy\n",
      "Memory usage: 15.235964 MB\n",
      "\n",
      "Lengths:\n",
      "\n",
      "Good data length: 7368\n",
      "Bad data length: 7368\n",
      "Caluculated length: 14735\n",
      "../data/study_1A_mat_simple/S_01/night_2/spectrogram_bad_segments_unnormalized.npy\n",
      "../data/study_1A_mat_simple/S_01/night_2/spectrogram_good_segments_unnormalized.npy\n",
      "Memory usage: 15.239309 MB\n",
      "\n",
      "Lengths:\n",
      "\n",
      "Good data length: 4292\n",
      "Bad data length: 4292\n",
      "Caluculated length: 8583\n",
      "../data/study_1A_mat_simple/S_01/night_3/spectrogram_bad_segments_unnormalized.npy\n",
      "../data/study_1A_mat_simple/S_01/night_3/spectrogram_good_segments_unnormalized.npy\n",
      "Memory usage: 15.2429 MB\n",
      "\n",
      "Lengths:\n",
      "\n",
      "Good data length: 6110\n",
      "Bad data length: 6110\n",
      "Caluculated length: 12219\n",
      "../data/study_1A_mat_simple/S_01/night_4/spectrogram_bad_segments_unnormalized.npy\n",
      "../data/study_1A_mat_simple/S_01/night_4/spectrogram_good_segments_unnormalized.npy\n",
      "Memory usage: 15.246179 MB\n",
      "\n",
      "Lengths:\n",
      "\n",
      "Good data length: 7418\n",
      "Bad data length: 7418\n",
      "Caluculated length: 14835\n",
      "../data/study_1A_mat_simple/S_02/night_1/spectrogram_bad_segments_unnormalized.npy\n",
      "../data/study_1A_mat_simple/S_02/night_1/spectrogram_good_segments_unnormalized.npy\n",
      "Memory usage: 15.249628 MB\n",
      "\n",
      "Lengths:\n",
      "\n",
      "Good data length: 11075\n",
      "Bad data length: 11075\n",
      "Caluculated length: 22149\n",
      "../data/study_1A_mat_simple/S_02/night_2/spectrogram_bad_segments_unnormalized.npy\n",
      "../data/study_1A_mat_simple/S_02/night_2/spectrogram_good_segments_unnormalized.npy\n",
      "Memory usage: 15.252599 MB\n",
      "\n",
      "Lengths:\n",
      "\n",
      "Good data length: 17966\n",
      "Bad data length: 17966\n",
      "Caluculated length: 35931\n",
      "../data/study_1A_mat_simple/S_02/night_3/spectrogram_bad_segments_unnormalized.npy\n",
      "../data/study_1A_mat_simple/S_02/night_3/spectrogram_good_segments_unnormalized.npy\n",
      "Memory usage: 15.256274 MB\n",
      "\n",
      "Lengths:\n",
      "\n",
      "Good data length: 12770\n",
      "Bad data length: 12770\n",
      "Caluculated length: 25539\n",
      "../data/study_1A_mat_simple/S_02/night_4/spectrogram_bad_segments_unnormalized.npy\n",
      "../data/study_1A_mat_simple/S_02/night_4/spectrogram_good_segments_unnormalized.npy\n",
      "Memory usage: 15.259661 MB\n",
      "\n",
      "Lengths:\n",
      "\n",
      "Good data length: 9044\n",
      "Bad data length: 9044\n",
      "Caluculated length: 18087\n",
      "Test accuracy: 0.9318836386591092\n",
      "Test size: 152078\n",
      "\n",
      "Truth table\n",
      "\n",
      "True pos: 71062\n",
      "True neg: 70657\n",
      "False pos: 5371\n",
      "False neg: 4974\n",
      "\n",
      "\n",
      "\n"
     ]
    }
   ],
   "source": [
    "# Load the dataset\n",
    "raw_data_dir = '../data'\n",
    "testNights = 8\n",
    "\n",
    "print(\"\\nTest set\\n\")\n",
    "test_set = load_dataset(range(testNights), raw_data_dir, normalized = False)\n",
    "test_loader = DataLoader(test_set, batch_size=64, shuffle=False, drop_last = True)\n",
    "\n",
    "# Test the model on the test set\n",
    "\n",
    "size = len(test_loader.dataset)\n",
    "num_batches = len(test_loader)\n",
    "correct = 0\n",
    "\n",
    "# Truth table variables\n",
    "true_pos,true_neg, false_pos, false_neg = 0,0,0,0\n",
    "\n",
    "with torch.no_grad():\n",
    "    for X, y in test_loader:\n",
    "        X = X.to(device)\n",
    "        y = y.to(device)\n",
    "        pred = model(X).reshape(-1).to(device) # Reshape to 1 dimension if using binary classification, otherwise keep dimensions from model output\n",
    "        correct += (pred.round() == y).type(torch.float).sum().item()\n",
    "        \n",
    "        # Calculate the truth table\n",
    "        for i, pred_val in enumerate(pred.round()):\n",
    "            if y[i] == 1:\n",
    "                if pred_val == 1:\n",
    "                    true_pos += 1\n",
    "                else:\n",
    "                    false_neg += 1\n",
    "            else:\n",
    "                if pred_val == 1:\n",
    "                    false_pos += 1\n",
    "                else:\n",
    "                    true_neg += 1\n",
    "                    \n",
    "        \n",
    "\n",
    "correct /= size\n",
    "print(f\"Test accuracy: {correct}\")\n",
    "print(f\"Test size: {size}\")\n",
    "\n",
    "# Print the truth table\n",
    "print(\"\\nTruth table\\n\")\n",
    "print(f\"True pos: {true_pos}\")\n",
    "print(f\"True neg: {true_neg}\")\n",
    "print(f\"False pos: {false_pos}\")\n",
    "print(f\"False neg: {false_neg}\")\n",
    "\n",
    "print(\"\\n\\n\")\n"
   ]
  },
  {
   "cell_type": "markdown",
   "metadata": {},
   "source": [
    "### Load and test full night data"
   ]
  },
  {
   "cell_type": "code",
   "execution_count": null,
   "metadata": {},
   "outputs": [],
   "source": []
  }
 ],
 "metadata": {
  "kernelspec": {
   "display_name": "Python 3.8.10 64-bit",
   "language": "python",
   "name": "python3"
  },
  "language_info": {
   "codemirror_mode": {
    "name": "ipython",
    "version": 3
   },
   "file_extension": ".py",
   "mimetype": "text/x-python",
   "name": "python",
   "nbconvert_exporter": "python",
   "pygments_lexer": "ipython3",
   "version": "3.8.10"
  },
  "orig_nbformat": 4,
  "vscode": {
   "interpreter": {
    "hash": "31f2aee4e71d21fbe5cf8b01ff0e069b9275f58929596ceb00d14d90e3e16cd6"
   }
  }
 },
 "nbformat": 4,
 "nbformat_minor": 2
}
