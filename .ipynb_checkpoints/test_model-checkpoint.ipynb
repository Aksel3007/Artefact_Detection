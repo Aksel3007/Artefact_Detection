{
 "cells": [
  {
   "cell_type": "code",
   "execution_count": null,
   "metadata": {},
   "outputs": [],
   "source": [
    "import os\n",
    "import torch\n",
    "import numpy as np\n",
    "from torch import nn\n",
    "from torch.utils.data import DataLoader\n",
    "from dataset import EEGDataset\n",
    "from torch.utils.data import random_split\n",
    "import neptune.new as neptune\n",
    "from torchinfo import summary\n",
    "\n",
    "# Load in the model\n",
    "\n",
    "model = torch.jit.load(\"../trained_models/model_03_21_2022_23_43_59\")\n",
    "model.eval()\n",
    "\n",
    "\n",
    "# Load in some data (preferably unseen data for the model)\n",
    "raw_data_dir = '../data'\n",
    "\n",
    "trainingNights = 7\n",
    "testNights = 2\n",
    "ds2 = EEGDataset(raw_data_dir,testNights, 250, skips = trainingNights)"
   ]
  },
  {
   "cell_type": "code",
   "execution_count": 80,
   "metadata": {},
   "outputs": [
    {
     "name": "stdout",
     "output_type": "stream",
     "text": [
      "600772\n",
      "[[     0.             0.             0.        ...      0.\n",
      "       0.             0.       ]\n",
      " [     0.             0.             0.        ...      0.\n",
      "       0.             0.       ]\n",
      " [     0.             0.             0.        ...      0.\n",
      "       0.             0.       ]\n",
      " ...\n",
      " [-89913.5546875 -89907.578125  -89907.515625  ... -89892.4921875\n",
      "  -89903.3046875 -89907.9140625]\n",
      " [-93874.6640625 -93867.6484375 -93875.9296875 ... -93865.6953125\n",
      "  -93874.390625  -93859.9609375]\n",
      " [ 88378.0859375  88363.9765625  88343.921875  ...  88491.6484375\n",
      "   88553.578125   88544.1796875]]\n"
     ]
    }
   ],
   "source": [
    "print(ds2[102][3])\n",
    "\n",
    "index = 102\n",
    "channel = ds2[index][2]\n",
    "start = ds2[index][3]\n",
    "data = np.zeros((25, ds2.sectionLength))\n",
    "for i in range(25):\n",
    "    data[i,:] = ds2.data[i, start : start + ds2.sectionLength]\n",
    "    \n",
    "\n",
    "\n",
    "\n",
    "print(data)"
   ]
  },
  {
   "cell_type": "code",
   "execution_count": null,
   "metadata": {},
   "outputs": [],
   "source": []
  }
 ],
 "metadata": {
  "kernelspec": {
   "display_name": "Python 3 (ipykernel)",
   "language": "python",
   "name": "python3"
  },
  "language_info": {
   "codemirror_mode": {
    "name": "ipython",
    "version": 3
   },
   "file_extension": ".py",
   "mimetype": "text/x-python",
   "name": "python",
   "nbconvert_exporter": "python",
   "pygments_lexer": "ipython3",
   "version": "3.8.5"
  }
 },
 "nbformat": 4,
 "nbformat_minor": 2
}
