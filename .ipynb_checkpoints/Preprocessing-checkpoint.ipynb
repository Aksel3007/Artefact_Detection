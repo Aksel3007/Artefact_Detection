{
 "cells": [
  {
   "cell_type": "code",
   "execution_count": null,
   "metadata": {},
   "outputs": [],
   "source": [
    "!pip install mne\n",
    "!pip install hdf5storage"
   ]
  },
  {
   "cell_type": "code",
   "execution_count": 1,
   "metadata": {},
   "outputs": [],
   "source": [
    "import numpy as np\n",
    "import mne\n",
    "import scipy.io as sio\n",
    "import hdf5storage\n",
    "import os\n",
    "import math\n"
   ]
  },
  {
   "cell_type": "code",
   "execution_count": null,
   "metadata": {},
   "outputs": [],
   "source": [
    "#Test with a single night\n",
    "\n",
    "path_raw_data = '//uni.au.dk/dfs/Tech_EarEEG/Students/RD2022_Artefact_AkselStark/data/1A/study_1A_mat_simple/S_01/night_1/EEG_raw.mat'\n",
    "path_cleaned_data = '//uni.au.dk/dfs/Tech_EarEEG/Students/RD2022_Artefact_AkselStark/data/1A/study_1A_mat_simple_cleaned/S_01/night_1/EEG_raw.mat'\n",
    "\n",
    "print('loading data')\n",
    "data_raw = hdf5storage.loadmat(path_raw_data)\n",
    "print(\"raw data loaded\")\n",
    "\n",
    "#data_cleaned = hdf5storage.loadmat(path_cleaned_data)['data']\n",
    "#print(\"clean data loaded\")"
   ]
  },
  {
   "cell_type": "code",
   "execution_count": null,
   "metadata": {},
   "outputs": [],
   "source": [
    "print('debug')"
   ]
  },
  {
   "cell_type": "code",
   "execution_count": null,
   "metadata": {},
   "outputs": [],
   "source": [
    "\n",
    "labels = data_raw['chanlabels'].reshape(25).tolist() #channel labels needed to load data with MNE\n",
    "\n",
    "# A line to first load a nights data into mne, then resample to 250 hz, then get the numpy array out again with ._data\n",
    "# Data is converted to 32 bit\n",
    "data = mne.io.RawArray(data_raw['data'], mne.create_info(labels,500)).resample(250)._data.astype(\"float32\")"
   ]
  },
  {
   "cell_type": "code",
   "execution_count": null,
   "metadata": {},
   "outputs": [],
   "source": [
    "!pip install mne\n",
    "!pip install hdf5storage"
   ]
  },
  {
   "cell_type": "code",
   "execution_count": 1,
   "metadata": {},
   "outputs": [
    {
     "name": "stdout",
     "output_type": "stream",
     "text": [
      "Raw data loaded\n",
      "['ELA ', 'ELB ', 'ELC ', 'ELT ', 'ELE ', 'ELI ', 'ERA ', 'ERB ', 'ERC ', 'ERT ', 'ERE ', 'ERI ', 'EOGr', 'EOGl', 'EMGl', 'EMGr', 'M1  ', 'F3  ', 'C3  ', 'O1  ', 'M2  ', 'F4  ', 'C4  ', 'O2  ', 'EMGc']\n",
      "\n",
      " \n",
      " \n",
      "Missed file:\n",
      "../data/study_1A_mat_simple/S_01/night_3/EEG_raw.mat\n",
      "\n",
      " \n",
      " \n",
      "________________________________________\n",
      "\n",
      " \n",
      " \n",
      "\n",
      "../data/study_1A_mat_simple/S_01/night_4/EEG_raw.mat\n"
     ]
    },
    {
     "name": "stderr",
     "output_type": "stream",
     "text": [
      "Traceback (most recent call last):\n",
      "  File \"/tmp/ipykernel_379689/2132586629.py\", line 39, in <module>\n",
      "    npdata = np.nan_to_num(data_raw['data'])# change nan to 0 to enable downsampling\n",
      "KeyError: 'data'\n"
     ]
    }
   ],
   "source": [
    "# Function to filter mne raw signal\n",
    "def filter_signal(raw, l_freq, h_freq, picks=None):\n",
    "    raw.filter(l_freq, h_freq, picks=picks)\n",
    "    #raw.plot(block=True) # Plot the mne raw EEG filtered data\n",
    "    return raw\n",
    "    \n",
    "    \n",
    "# This section processes the data, and creates files inside the original folder structure.\n",
    "import numpy as np\n",
    "import mne\n",
    "import scipy.io as sio\n",
    "import hdf5storage\n",
    "import os\n",
    "import math\n",
    "\n",
    "\n",
    "\n",
    "clean_data_dir = '//uni.au.dk/dfs/Tech_EarEEG/Students/RD2022_Artefact_AkselStark/data/1A/study_1A_mat_simple_cleaned'\n",
    "#raw_data_dir = '//uni.au.dk/dfs/Tech_EarEEG/Students/RD2022_Artefact_AkselStark/data/1A/study_1A_mat_simple'\n",
    "raw_data_dir = '../data'\n",
    "\n",
    "# Run through all the cleaned EEG files\n",
    "for subdir, dirs, files in sorted(os.walk(raw_data_dir)):\n",
    "    for file in files:\n",
    "        if \"EEG\" in file and not \"250hz\" in file:\n",
    "            try:\n",
    "                print(os.path.join(subdir, file))\n",
    "                data_raw = hdf5storage.loadmat(os.path.join(subdir, file))\n",
    "                print('Raw data loaded')\n",
    "\n",
    "                # Labels are needed for MNE. Imported, reshaped and converted to list\n",
    "                labels = data_raw['chanlabels'].reshape(25).tolist() #channel labels needed to load data with MNE\n",
    "            \n",
    "                print(labels)\n",
    "\n",
    "\n",
    "                # First load a nights data into mne, then resample to 250 hz, then get the numpy array out again with ._data\n",
    "                # Data is converted to 32 bit\n",
    "                npdata = np.nan_to_num(data_raw['data'])# change nan to 0 to enable downsampling\n",
    "                #data = mne.io.RawArray(npdata, mne.create_info(labels,500)).resample(250)._data.astype(\"float32\") #This works, but doesn't filter\n",
    "                data = mne.io.RawArray(npdata, mne.create_info(labels,500))\n",
    "                \n",
    "                #data.plot(block=True) # Plot the mne raw EEG data\n",
    "                \n",
    "                data = filter_signal(data, 0.1, 100, picks=labels).resample(250)._data.astype(\"float32\")\n",
    "                             \n",
    "            \n",
    "            \n",
    "                #data = mne.filter.resample(data, down = 2)\n",
    "                print('downsampling complete')\n",
    "                \n",
    "                \n",
    "            \n",
    "\n",
    "                # Save downsampled data, and add to new file\n",
    "                np.save(f'{os.path.join(subdir)}/EEG_raw_250hz', data)\n",
    "\n",
    "                print(f'Done: {subdir}')\n",
    "            except:\n",
    "                print(\"\\n \\n \\nMissed file:\")\n",
    "                print(os.path.join(subdir, file))\n",
    "                print(\"\\n \\n \\n________________________________________\")\n",
    "                # Print the exception\n",
    "                import traceback\n",
    "                traceback.print_exc()\n",
    "                print(\"\\n \\n \\n\")\n",
    "                pass\n",
    "                "
   ]
  },
  {
   "cell_type": "code",
   "execution_count": null,
   "metadata": {},
   "outputs": [],
   "source": []
  }
 ],
 "metadata": {
  "interpreter": {
   "hash": "2c71e2635ddc78baa0539050ec2b1f1c0228e09439b3b78f4d2f134097ad8afd"
  },
  "kernelspec": {
   "display_name": "Python 3 (ipykernel)",
   "language": "python",
   "name": "python3"
  },
  "language_info": {
   "codemirror_mode": {
    "name": "ipython",
    "version": 3
   },
   "file_extension": ".py",
   "mimetype": "text/x-python",
   "name": "python",
   "nbconvert_exporter": "python",
   "pygments_lexer": "ipython3",
   "version": "3.8.5"
  }
 },
 "nbformat": 4,
 "nbformat_minor": 2
}
