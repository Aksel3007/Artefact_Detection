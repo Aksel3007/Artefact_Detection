{
 "cells": [
  {
   "cell_type": "markdown",
   "metadata": {},
   "source": [
    "# Model Testing\n",
    "\n",
    "## This notebook is meant to load trained models, and test their performance\n",
    "\n"
   ]
  },
  {
   "cell_type": "code",
   "execution_count": 5,
   "metadata": {},
   "outputs": [],
   "source": [
    "import os\n",
    "import torch\n",
    "import numpy as np\n",
    "from torch import nn\n",
    "from torch.utils.data import DataLoader\n",
    "from dataset_spectrogram import EEGDataset\n",
    "from torch.utils.data import random_split\n",
    "import neptune.new as neptune\n",
    "from torchinfo import summary\n",
    "from dataset_spectrogram import load_dataset\n",
    "import random\n",
    "import torch.utils.data as data\n",
    "from datetime import datetime\n",
    "from scipy import signal\n",
    "from scipy.fft import fftshift\n",
    "import matplotlib.pyplot as plt\n",
    "import math\n",
    "import scipy.io as sio\n",
    "#import mne\n"
   ]
  },
  {
   "cell_type": "code",
   "execution_count": 10,
   "metadata": {},
   "outputs": [],
   "source": [
    "# Load a saved model\n",
    "\n",
    "device = 'cuda' if torch.cuda.is_available() else 'cpu' #Check for cuda \n",
    "\n",
    "model = torch.jit.load(\"../trained_models/model_05_13_2022_10_01_20\",map_location=device)\n"
   ]
  },
  {
   "cell_type": "markdown",
   "metadata": {},
   "source": [
    "### Load and test with 50-50 test dataset"
   ]
  },
  {
   "cell_type": "code",
   "execution_count": 11,
   "metadata": {},
   "outputs": [
    {
     "name": "stdout",
     "output_type": "stream",
     "text": [
      "\n",
      "Test set\n",
      "\n",
      "../data/study_1A_mat_simple/S_01/night_1/spectrogram_bad_segments_unnormalized.npy\n",
      "../data/study_1A_mat_simple/S_01/night_1/spectrogram_good_segments_unnormalized.npy\n",
      "Memory usage: 1.120862 MB\n",
      "\n",
      "Lengths:\n",
      "\n",
      "Good data length: 7368\n",
      "Bad data length: 7368\n",
      "Caluculated length: 14735\n",
      "../data/study_1A_mat_simple/S_01/night_2/spectrogram_bad_segments_unnormalized.npy\n",
      "../data/study_1A_mat_simple/S_01/night_2/spectrogram_good_segments_unnormalized.npy\n",
      "Memory usage: 1.12593 MB\n",
      "\n",
      "Lengths:\n",
      "\n",
      "Good data length: 4292\n",
      "Bad data length: 4292\n",
      "Caluculated length: 8583\n",
      "../data/study_1A_mat_simple/S_01/night_3/spectrogram_bad_segments_unnormalized.npy\n",
      "../data/study_1A_mat_simple/S_01/night_3/spectrogram_good_segments_unnormalized.npy\n",
      "Memory usage: 1.129653 MB\n",
      "\n",
      "Lengths:\n",
      "\n",
      "Good data length: 6110\n",
      "Bad data length: 6110\n",
      "Caluculated length: 12219\n",
      "../data/study_1A_mat_simple/S_01/night_4/spectrogram_bad_segments_unnormalized.npy\n",
      "../data/study_1A_mat_simple/S_01/night_4/spectrogram_good_segments_unnormalized.npy\n",
      "Memory usage: 1.133189 MB\n",
      "\n",
      "Lengths:\n",
      "\n",
      "Good data length: 7418\n",
      "Bad data length: 7418\n",
      "Caluculated length: 14835\n",
      "../data/study_1A_mat_simple/S_02/night_1/spectrogram_bad_segments_unnormalized.npy\n",
      "../data/study_1A_mat_simple/S_02/night_1/spectrogram_good_segments_unnormalized.npy\n",
      "Memory usage: 1.136805 MB\n",
      "\n",
      "Lengths:\n",
      "\n",
      "Good data length: 11075\n",
      "Bad data length: 11075\n",
      "Caluculated length: 22149\n",
      "../data/study_1A_mat_simple/S_02/night_2/spectrogram_bad_segments_unnormalized.npy\n",
      "../data/study_1A_mat_simple/S_02/night_2/spectrogram_good_segments_unnormalized.npy\n",
      "Memory usage: 1.141405 MB\n",
      "\n",
      "Lengths:\n",
      "\n",
      "Good data length: 17966\n",
      "Bad data length: 17966\n",
      "Caluculated length: 35931\n",
      "../data/study_1A_mat_simple/S_02/night_3/spectrogram_bad_segments_unnormalized.npy\n",
      "../data/study_1A_mat_simple/S_02/night_3/spectrogram_good_segments_unnormalized.npy\n",
      "Memory usage: 1.133823 MB\n",
      "\n",
      "Lengths:\n",
      "\n",
      "Good data length: 12770\n",
      "Bad data length: 12770\n",
      "Caluculated length: 25539\n",
      "../data/study_1A_mat_simple/S_02/night_4/spectrogram_bad_segments_unnormalized.npy\n",
      "../data/study_1A_mat_simple/S_02/night_4/spectrogram_good_segments_unnormalized.npy\n",
      "Memory usage: 1.137939 MB\n",
      "\n",
      "Lengths:\n",
      "\n",
      "Good data length: 9044\n",
      "Bad data length: 9044\n",
      "Caluculated length: 18087\n",
      "Test accuracy: 0.819849024842515\n",
      "Test size: 152078\n",
      "\n",
      "Truth table\n",
      "\n",
      "True pos: 71100\n",
      "True neg: 53581\n",
      "False pos: 22447\n",
      "False neg: 4936\n",
      "\n",
      "\n",
      "\n"
     ]
    }
   ],
   "source": [
    "# Load the dataset\n",
    "raw_data_dir = '../data'\n",
    "testNights = 8\n",
    "\n",
    "print(\"\\nTest set\\n\")\n",
    "test_set = load_dataset(range(testNights), raw_data_dir, normalized = False)\n",
    "test_loader = DataLoader(test_set, batch_size=64, shuffle=False, drop_last = True)\n",
    "\n",
    "# Test the model on the test set\n",
    "\n",
    "size = len(test_loader.dataset)\n",
    "num_batches = len(test_loader)\n",
    "correct = 0\n",
    "\n",
    "# Truth table variables\n",
    "true_pos,true_neg, false_pos, false_neg = 0,0,0,0\n",
    "\n",
    "with torch.no_grad():\n",
    "    for X, y in test_loader:\n",
    "        X = X[:,None,:,:].to(device)\n",
    "        y = y.to(device)\n",
    "        pred = model(X).reshape(-1).to(device) # Reshape to 1 dimension if using binary classification, otherwise keep dimensions from model output\n",
    "        correct += (pred.round() == y).type(torch.float).sum().item()\n",
    "        \n",
    "        # Calculate the truth table\n",
    "        for i, pred_val in enumerate(pred.round()):\n",
    "            if y[i] == 1:\n",
    "                if pred_val == 1:\n",
    "                    true_pos += 1\n",
    "                else:\n",
    "                    false_neg += 1\n",
    "            else:\n",
    "                if pred_val == 1:\n",
    "                    false_pos += 1\n",
    "                else:\n",
    "                    true_neg += 1\n",
    "                    \n",
    "        \n",
    "\n",
    "correct /= size\n",
    "print(f\"Test accuracy: {correct}\")\n",
    "print(f\"Test size: {size}\")\n",
    "\n",
    "# Print the truth table\n",
    "print(\"\\nTruth table\\n\")\n",
    "print(f\"True pos: {true_pos}\")\n",
    "print(f\"True neg: {true_neg}\")\n",
    "print(f\"False pos: {false_pos}\")\n",
    "print(f\"False neg: {false_neg}\")\n",
    "\n",
    "print(\"\\n\\n\")\n"
   ]
  },
  {
   "cell_type": "markdown",
   "metadata": {},
   "source": [
    "### Load and test full night data"
   ]
  },
  {
   "cell_type": "code",
   "execution_count": 12,
   "metadata": {},
   "outputs": [
    {
     "name": "stdout",
     "output_type": "stream",
     "text": [
      "77 nights found\n"
     ]
    }
   ],
   "source": [
    "# Make a list of all the folders containing sleep data\n",
    "\n",
    "raw_data_dir = '../data'\n",
    "data_dirs = []\n",
    "\n",
    "for subdir, dirs, files in sorted(os.walk(raw_data_dir)):\n",
    "    if \"night\" in subdir and not (\"calibration\" in subdir or \"scor\" in subdir or \"folder\" in subdir):\n",
    "        data_dirs.append(subdir)\n",
    "        \n",
    "print(f\"{len(data_dirs)} nights found\")       "
   ]
  },
  {
   "cell_type": "code",
   "execution_count": 13,
   "metadata": {},
   "outputs": [
    {
     "name": "stdout",
     "output_type": "stream",
     "text": [
      "Time series data loaded\n",
      "Spectrogram complete\n",
      "Annotations loaded\n",
      "Lists created\n"
     ]
    }
   ],
   "source": [
    "# Load the spectrogram data from a night from the list\n",
    "night_path = data_dirs[0]\n",
    "\n",
    "time_series = np.load(f\"{night_path}/EEG_raw_250hz.npy\") # Load the raw EEG data\n",
    "print('Time series data loaded')\n",
    "\n",
    "f, t, Sxx = signal.spectrogram(time_series[:], fs=250,nperseg=250, noverlap=125) # Calculate the spectrogram\n",
    "print('Spectrogram complete')\n",
    "\n",
    "annotations = np.load(night_path+\"/artefact_annotations.npy\") # Load the annotations\n",
    "print(\"Annotations loaded\")\n",
    "\n",
    "annotation_list,spectrogram_list, time_series_list = [],[],[] # Create lists to store the data\n",
    "\n",
    "# Segment the data and test the model\n",
    "for channel_number, channel in enumerate(Sxx): # Loop through each channel\n",
    "    for i in range(channel.shape[1]): # Loop through each timepoint\n",
    "        if (i % 20 == 0) and i < channel.shape[1] - 21: # Segment the data into 10s windows\n",
    "            \n",
    "            annotation_list.append(annotations[:,i*125:i*125+2500]) # Load annotations for the segment\n",
    "            spectrogram_list.append(channel[:,i:i+20]) # Load the spectrogram for the segment\n",
    "            time_series_list.append(time_series[:,i*125:i*125+2500]) # Load the time series for the segment\n",
    "            pass # Do nothing\n",
    "\n",
    "print(\"Lists created\")\n"
   ]
  },
  {
   "cell_type": "code",
   "execution_count": 15,
   "metadata": {},
   "outputs": [
    {
     "ename": "RuntimeError",
     "evalue": "The following operation failed in the TorchScript interpreter.\nTraceback of TorchScript, serialized code (most recent call last):\n  File \"code/__torch__.py\", line 10, in forward\n    x: Tensor) -> Tensor:\n    conv_stack = self.conv_stack\n    return (conv_stack).forward(x, )\n            ~~~~~~~~~~~~~~~~~~~ <--- HERE\n  File \"code/__torch__/torch/nn/modules/container.py\", line 38, in forward\n    _13 = getattr(self, \"13\")\n    _14 = getattr(self, \"14\")\n    input0 = (_0).forward(input, )\n              ~~~~~~~~~~~ <--- HERE\n    input1 = (_1).forward(input0, )\n    input2 = (_2).forward(input1, )\n  File \"code/__torch__/torch/nn/modules/conv.py\", line 23, in forward\n    weight = self.weight\n    bias = self.bias\n    _0 = (self)._conv_forward(input, weight, bias, )\n          ~~~~~~~~~~~~~~~~~~~ <--- HERE\n    return _0\n  def _conv_forward(self: __torch__.torch.nn.modules.conv.Conv2d,\n  File \"code/__torch__/torch/nn/modules/conv.py\", line 29, in _conv_forward\n    weight: Tensor,\n    bias: Optional[Tensor]) -> Tensor:\n    _1 = torch.conv2d(input, weight, bias, [1, 1], [1, 1], [1, 1])\n         ~~~~~~~~~~~~ <--- HERE\n    return _1\n\nTraceback of TorchScript, original code (most recent call last):\n  File \"/tmp/ipykernel_2315376/4042923712.py\", line 32, in forward\n    def forward(self, x):\n        #x = self.flatten(x)\n        logits = self.conv_stack(x)\n                 ~~~~~~~~~~~~~~~ <--- HERE\n        return logits\n  File \"/home/aron/.local/lib/python3.9/site-packages/torch/nn/modules/container.py\", line 141, in forward\n    def forward(self, input):\n        for module in self:\n            input = module(input)\n                    ~~~~~~ <--- HERE\n        return input\n  File \"/home/aron/.local/lib/python3.9/site-packages/torch/nn/modules/conv.py\", line 447, in forward\n    def forward(self, input: Tensor) -> Tensor:\n        return self._conv_forward(input, self.weight, self.bias)\n               ~~~~~~~~~~~~~~~~~~ <--- HERE\n  File \"/home/aron/.local/lib/python3.9/site-packages/torch/nn/modules/conv.py\", line 443, in _conv_forward\n                            weight, bias, self.stride,\n                            _pair(0), self.dilation, self.groups)\n        return F.conv2d(input, weight, bias, self.stride,\n               ~~~~~~~~ <--- HERE\n                        self.padding, self.dilation, self.groups)\nRuntimeError: Input type (torch.FloatTensor) and weight type (torch.cuda.FloatTensor) should be the same or input should be a MKLDNN tensor and weight is a dense tensor\n",
     "output_type": "error",
     "traceback": [
      "\u001b[0;31m---------------------------------------------------------------------------\u001b[0m",
      "\u001b[0;31mRuntimeError\u001b[0m                              Traceback (most recent call last)",
      "\u001b[0;32m/tmp/ipykernel_139173/3158384871.py\u001b[0m in \u001b[0;36m<module>\u001b[0;34m\u001b[0m\n\u001b[1;32m      2\u001b[0m     \u001b[0mspectro_tensor\u001b[0m \u001b[0;34m=\u001b[0m \u001b[0mtorch\u001b[0m\u001b[0;34m.\u001b[0m\u001b[0mfrom_numpy\u001b[0m\u001b[0;34m(\u001b[0m\u001b[0mnp\u001b[0m\u001b[0;34m.\u001b[0m\u001b[0marray\u001b[0m\u001b[0;34m(\u001b[0m\u001b[0mspectrogram_list\u001b[0m\u001b[0;34m[\u001b[0m\u001b[0mn\u001b[0m\u001b[0;34m:\u001b[0m\u001b[0mn\u001b[0m\u001b[0;34m+\u001b[0m\u001b[0;36m64\u001b[0m\u001b[0;34m]\u001b[0m\u001b[0;34m)\u001b[0m\u001b[0;34m)\u001b[0m\u001b[0;34m\u001b[0m\u001b[0;34m\u001b[0m\u001b[0m\n\u001b[1;32m      3\u001b[0m     \u001b[0mspectro_tensor\u001b[0m \u001b[0;34m=\u001b[0m \u001b[0mspectro_tensor\u001b[0m\u001b[0;34m[\u001b[0m\u001b[0;34m:\u001b[0m\u001b[0;34m,\u001b[0m\u001b[0;32mNone\u001b[0m\u001b[0;34m,\u001b[0m\u001b[0;34m:\u001b[0m\u001b[0;34m,\u001b[0m\u001b[0;34m:\u001b[0m\u001b[0;34m]\u001b[0m\u001b[0;34m\u001b[0m\u001b[0;34m\u001b[0m\u001b[0m\n\u001b[0;32m----> 4\u001b[0;31m     \u001b[0mpred\u001b[0m \u001b[0;34m=\u001b[0m \u001b[0mmodel\u001b[0m\u001b[0;34m(\u001b[0m\u001b[0mspectro_tensor\u001b[0m\u001b[0;34m)\u001b[0m \u001b[0;31m# Run the model on the segment\u001b[0m\u001b[0;34m\u001b[0m\u001b[0;34m\u001b[0m\u001b[0m\n\u001b[0m\u001b[1;32m      5\u001b[0m \u001b[0;34m\u001b[0m\u001b[0m\n\u001b[1;32m      6\u001b[0m     \u001b[0;31m# Convert time series to mne raw object\u001b[0m\u001b[0;34m\u001b[0m\u001b[0;34m\u001b[0m\u001b[0m\n",
      "\u001b[0;32m~/.local/lib/python3.9/site-packages/torch/nn/modules/module.py\u001b[0m in \u001b[0;36m_call_impl\u001b[0;34m(self, *input, **kwargs)\u001b[0m\n\u001b[1;32m   1108\u001b[0m         if not (self._backward_hooks or self._forward_hooks or self._forward_pre_hooks or _global_backward_hooks\n\u001b[1;32m   1109\u001b[0m                 or _global_forward_hooks or _global_forward_pre_hooks):\n\u001b[0;32m-> 1110\u001b[0;31m             \u001b[0;32mreturn\u001b[0m \u001b[0mforward_call\u001b[0m\u001b[0;34m(\u001b[0m\u001b[0;34m*\u001b[0m\u001b[0minput\u001b[0m\u001b[0;34m,\u001b[0m \u001b[0;34m**\u001b[0m\u001b[0mkwargs\u001b[0m\u001b[0;34m)\u001b[0m\u001b[0;34m\u001b[0m\u001b[0;34m\u001b[0m\u001b[0m\n\u001b[0m\u001b[1;32m   1111\u001b[0m         \u001b[0;31m# Do not call functions when jit is used\u001b[0m\u001b[0;34m\u001b[0m\u001b[0;34m\u001b[0m\u001b[0m\n\u001b[1;32m   1112\u001b[0m         \u001b[0mfull_backward_hooks\u001b[0m\u001b[0;34m,\u001b[0m \u001b[0mnon_full_backward_hooks\u001b[0m \u001b[0;34m=\u001b[0m \u001b[0;34m[\u001b[0m\u001b[0;34m]\u001b[0m\u001b[0;34m,\u001b[0m \u001b[0;34m[\u001b[0m\u001b[0;34m]\u001b[0m\u001b[0;34m\u001b[0m\u001b[0;34m\u001b[0m\u001b[0m\n",
      "\u001b[0;31mRuntimeError\u001b[0m: The following operation failed in the TorchScript interpreter.\nTraceback of TorchScript, serialized code (most recent call last):\n  File \"code/__torch__.py\", line 10, in forward\n    x: Tensor) -> Tensor:\n    conv_stack = self.conv_stack\n    return (conv_stack).forward(x, )\n            ~~~~~~~~~~~~~~~~~~~ <--- HERE\n  File \"code/__torch__/torch/nn/modules/container.py\", line 38, in forward\n    _13 = getattr(self, \"13\")\n    _14 = getattr(self, \"14\")\n    input0 = (_0).forward(input, )\n              ~~~~~~~~~~~ <--- HERE\n    input1 = (_1).forward(input0, )\n    input2 = (_2).forward(input1, )\n  File \"code/__torch__/torch/nn/modules/conv.py\", line 23, in forward\n    weight = self.weight\n    bias = self.bias\n    _0 = (self)._conv_forward(input, weight, bias, )\n          ~~~~~~~~~~~~~~~~~~~ <--- HERE\n    return _0\n  def _conv_forward(self: __torch__.torch.nn.modules.conv.Conv2d,\n  File \"code/__torch__/torch/nn/modules/conv.py\", line 29, in _conv_forward\n    weight: Tensor,\n    bias: Optional[Tensor]) -> Tensor:\n    _1 = torch.conv2d(input, weight, bias, [1, 1], [1, 1], [1, 1])\n         ~~~~~~~~~~~~ <--- HERE\n    return _1\n\nTraceback of TorchScript, original code (most recent call last):\n  File \"/tmp/ipykernel_2315376/4042923712.py\", line 32, in forward\n    def forward(self, x):\n        #x = self.flatten(x)\n        logits = self.conv_stack(x)\n                 ~~~~~~~~~~~~~~~ <--- HERE\n        return logits\n  File \"/home/aron/.local/lib/python3.9/site-packages/torch/nn/modules/container.py\", line 141, in forward\n    def forward(self, input):\n        for module in self:\n            input = module(input)\n                    ~~~~~~ <--- HERE\n        return input\n  File \"/home/aron/.local/lib/python3.9/site-packages/torch/nn/modules/conv.py\", line 447, in forward\n    def forward(self, input: Tensor) -> Tensor:\n        return self._conv_forward(input, self.weight, self.bias)\n               ~~~~~~~~~~~~~~~~~~ <--- HERE\n  File \"/home/aron/.local/lib/python3.9/site-packages/torch/nn/modules/conv.py\", line 443, in _conv_forward\n                            weight, bias, self.stride,\n                            _pair(0), self.dilation, self.groups)\n        return F.conv2d(input, weight, bias, self.stride,\n               ~~~~~~~~ <--- HERE\n                        self.padding, self.dilation, self.groups)\nRuntimeError: Input type (torch.FloatTensor) and weight type (torch.cuda.FloatTensor) should be the same or input should be a MKLDNN tensor and weight is a dense tensor\n"
     ]
    }
   ],
   "source": [
    "\n",
    "for n in range(len(spectrogram_list)): # Loop through each segment\n",
    "    spectro_tensor = torch.from_numpy(np.array(spectrogram_list[n:n+64]))\n",
    "    spectro_tensor = spectro_tensor[:,None,:,:]\n",
    "    pred = model(spectro_tensor) # Run the model on the segment\n",
    "    \n",
    "    # Convert time series to mne raw object\n",
    "    labels = list(range(25))\n",
    "    labels = [str(i) for i in labels]\n",
    "    #raw = mne.io.RawArray(time_series_list[n], info=mne.create_info(labels, 250))\n",
    "    # Visualise the segment \n",
    "    #raw.plot(block=True)\n",
    "    break\n",
    "\n",
    "    \n",
    "    \n",
    "            \n"
   ]
  }
 ],
 "metadata": {
  "kernelspec": {
   "display_name": "Python 3 (ipykernel)",
   "language": "python",
   "name": "python3"
  },
  "language_info": {
   "codemirror_mode": {
    "name": "ipython",
    "version": 3
   },
   "file_extension": ".py",
   "mimetype": "text/x-python",
   "name": "python",
   "nbconvert_exporter": "python",
   "pygments_lexer": "ipython3",
   "version": "3.9.7"
  },
  "vscode": {
   "interpreter": {
    "hash": "31f2aee4e71d21fbe5cf8b01ff0e069b9275f58929596ceb00d14d90e3e16cd6"
   }
  }
 },
 "nbformat": 4,
 "nbformat_minor": 4
}
