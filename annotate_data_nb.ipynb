{
 "cells": [
  {
   "cell_type": "code",
   "execution_count": 2,
   "metadata": {},
   "outputs": [],
   "source": [
    "import scipy.io as sio\n",
    "import hdf5storage\n",
    "import numpy as np\n",
    "import os"
   ]
  },
  {
   "cell_type": "markdown",
   "metadata": {},
   "source": [
    "Testing loading some data"
   ]
  },
  {
   "cell_type": "code",
   "execution_count": null,
   "metadata": {},
   "outputs": [],
   "source": [
    "path_raw_data = '//uni.au.dk/dfs/Tech_EarEEG/Students/RD2022_Artefact_AkselStark/data/1A/study_1A_mat_simple/S_01/night_1/EEG_raw.mat'\n",
    "path_cleaned_data = '//uni.au.dk/dfs/Tech_EarEEG/Students/RD2022_Artefact_AkselStark/data/1A/study_1A_mat_simple_cleaned/S_01/night_1/EEG_raw.mat'\n",
    "\n",
    "print('loading data')\n",
    "#data_raw = hdf5storage.loadmat(path_raw_data)['data']\n",
    "#print(\"raw data loaded\")\n",
    "\n",
    "data_cleaned = hdf5storage.loadmat(path_cleaned_data)['data']\n",
    "print(\"clean data loaded\")"
   ]
  },
  {
   "cell_type": "markdown",
   "metadata": {},
   "source": [
    "Use numpy isnan to get a matrix of bools "
   ]
  },
  {
   "cell_type": "code",
   "execution_count": 20,
   "metadata": {},
   "outputs": [],
   "source": [
    "def annotate_single_night_artefacts(clean_data_path): #Function takes a cleaned matrix (file and path as string) and create a matrix of where artefacts occur (finds nan)\n",
    "    clean_data = hdf5storage.loadmat(clean_data_path)['data']\n",
    "    \n",
    "    #artefact_matrix = np.isnan(clean_data).astype(int) #Save the outputs as ints\n",
    "    artefact_matrix = np.isnan(clean_data) #Save the outputs as bools\n",
    "                \n",
    "    return artefact_matrix"
   ]
  },
  {
   "cell_type": "code",
   "execution_count": null,
   "metadata": {},
   "outputs": [],
   "source": [
    "#annotation = annotate_single_night_artefacts(data_cleaned)\n"
   ]
  },
  {
   "cell_type": "markdown",
   "metadata": {},
   "source": [
    "Loop through all the eeg files and add annotation files."
   ]
  },
  {
   "cell_type": "code",
   "execution_count": 22,
   "metadata": {},
   "outputs": [
    {
     "name": "stdout",
     "output_type": "stream",
     "text": [
      "//uni.au.dk/dfs/Tech_EarEEG/Students/RD2022_Artefact_AkselStark/data/1A/study_1A_mat_simple_cleaned\\S_01\\night_1\\EEG_raw.mat\n",
      "Done: //uni.au.dk/dfs/Tech_EarEEG/Students/RD2022_Artefact_AkselStark/data/1A/study_1A_mat_simple_cleaned\\S_01\\night_1\n",
      "//uni.au.dk/dfs/Tech_EarEEG/Students/RD2022_Artefact_AkselStark/data/1A/study_1A_mat_simple_cleaned\\S_01\\night_2\\EEG_raw.mat\n",
      "Done: //uni.au.dk/dfs/Tech_EarEEG/Students/RD2022_Artefact_AkselStark/data/1A/study_1A_mat_simple_cleaned\\S_01\\night_2\n",
      "//uni.au.dk/dfs/Tech_EarEEG/Students/RD2022_Artefact_AkselStark/data/1A/study_1A_mat_simple_cleaned\\S_01\\night_3\\EEG_raw.mat\n",
      "Done: //uni.au.dk/dfs/Tech_EarEEG/Students/RD2022_Artefact_AkselStark/data/1A/study_1A_mat_simple_cleaned\\S_01\\night_3\n",
      "//uni.au.dk/dfs/Tech_EarEEG/Students/RD2022_Artefact_AkselStark/data/1A/study_1A_mat_simple_cleaned\\S_01\\night_4\\EEG_raw.mat\n",
      "Done: //uni.au.dk/dfs/Tech_EarEEG/Students/RD2022_Artefact_AkselStark/data/1A/study_1A_mat_simple_cleaned\\S_01\\night_4\n",
      "//uni.au.dk/dfs/Tech_EarEEG/Students/RD2022_Artefact_AkselStark/data/1A/study_1A_mat_simple_cleaned\\S_02\\night_1\\EEG_raw.mat\n",
      "Done: //uni.au.dk/dfs/Tech_EarEEG/Students/RD2022_Artefact_AkselStark/data/1A/study_1A_mat_simple_cleaned\\S_02\\night_1\n",
      "//uni.au.dk/dfs/Tech_EarEEG/Students/RD2022_Artefact_AkselStark/data/1A/study_1A_mat_simple_cleaned\\S_02\\night_2\\EEG_raw.mat\n",
      "Done: //uni.au.dk/dfs/Tech_EarEEG/Students/RD2022_Artefact_AkselStark/data/1A/study_1A_mat_simple_cleaned\\S_02\\night_2\n",
      "//uni.au.dk/dfs/Tech_EarEEG/Students/RD2022_Artefact_AkselStark/data/1A/study_1A_mat_simple_cleaned\\S_02\\night_3\\EEG_raw.mat\n",
      "Done: //uni.au.dk/dfs/Tech_EarEEG/Students/RD2022_Artefact_AkselStark/data/1A/study_1A_mat_simple_cleaned\\S_02\\night_3\n",
      "//uni.au.dk/dfs/Tech_EarEEG/Students/RD2022_Artefact_AkselStark/data/1A/study_1A_mat_simple_cleaned\\S_02\\night_4\\EEG_raw.mat\n",
      "Done: //uni.au.dk/dfs/Tech_EarEEG/Students/RD2022_Artefact_AkselStark/data/1A/study_1A_mat_simple_cleaned\\S_02\\night_4\n",
      "//uni.au.dk/dfs/Tech_EarEEG/Students/RD2022_Artefact_AkselStark/data/1A/study_1A_mat_simple_cleaned\\S_03\\night_1\\EEG_raw.mat\n",
      "Done: //uni.au.dk/dfs/Tech_EarEEG/Students/RD2022_Artefact_AkselStark/data/1A/study_1A_mat_simple_cleaned\\S_03\\night_1\n",
      "//uni.au.dk/dfs/Tech_EarEEG/Students/RD2022_Artefact_AkselStark/data/1A/study_1A_mat_simple_cleaned\\S_03\\night_2\\EEG_raw.mat\n",
      "Done: //uni.au.dk/dfs/Tech_EarEEG/Students/RD2022_Artefact_AkselStark/data/1A/study_1A_mat_simple_cleaned\\S_03\\night_2\n",
      "//uni.au.dk/dfs/Tech_EarEEG/Students/RD2022_Artefact_AkselStark/data/1A/study_1A_mat_simple_cleaned\\S_03\\night_3\\EEG_raw.mat\n",
      "Done: //uni.au.dk/dfs/Tech_EarEEG/Students/RD2022_Artefact_AkselStark/data/1A/study_1A_mat_simple_cleaned\\S_03\\night_3\n",
      "//uni.au.dk/dfs/Tech_EarEEG/Students/RD2022_Artefact_AkselStark/data/1A/study_1A_mat_simple_cleaned\\S_03\\night_4\\EEG_raw.mat\n",
      "Done: //uni.au.dk/dfs/Tech_EarEEG/Students/RD2022_Artefact_AkselStark/data/1A/study_1A_mat_simple_cleaned\\S_03\\night_4\n",
      "//uni.au.dk/dfs/Tech_EarEEG/Students/RD2022_Artefact_AkselStark/data/1A/study_1A_mat_simple_cleaned\\S_04\\night_1\\EEG_raw.mat\n",
      "Done: //uni.au.dk/dfs/Tech_EarEEG/Students/RD2022_Artefact_AkselStark/data/1A/study_1A_mat_simple_cleaned\\S_04\\night_1\n",
      "//uni.au.dk/dfs/Tech_EarEEG/Students/RD2022_Artefact_AkselStark/data/1A/study_1A_mat_simple_cleaned\\S_04\\night_2\\EEG_raw.mat\n",
      "Done: //uni.au.dk/dfs/Tech_EarEEG/Students/RD2022_Artefact_AkselStark/data/1A/study_1A_mat_simple_cleaned\\S_04\\night_2\n",
      "//uni.au.dk/dfs/Tech_EarEEG/Students/RD2022_Artefact_AkselStark/data/1A/study_1A_mat_simple_cleaned\\S_04\\night_3\\EEG_raw.mat\n",
      "Done: //uni.au.dk/dfs/Tech_EarEEG/Students/RD2022_Artefact_AkselStark/data/1A/study_1A_mat_simple_cleaned\\S_04\\night_3\n",
      "//uni.au.dk/dfs/Tech_EarEEG/Students/RD2022_Artefact_AkselStark/data/1A/study_1A_mat_simple_cleaned\\S_04\\night_4\\EEG_raw.mat\n",
      "Done: //uni.au.dk/dfs/Tech_EarEEG/Students/RD2022_Artefact_AkselStark/data/1A/study_1A_mat_simple_cleaned\\S_04\\night_4\n",
      "//uni.au.dk/dfs/Tech_EarEEG/Students/RD2022_Artefact_AkselStark/data/1A/study_1A_mat_simple_cleaned\\S_05\\night_1\\EEG_raw.mat\n",
      "Done: //uni.au.dk/dfs/Tech_EarEEG/Students/RD2022_Artefact_AkselStark/data/1A/study_1A_mat_simple_cleaned\\S_05\\night_1\n",
      "//uni.au.dk/dfs/Tech_EarEEG/Students/RD2022_Artefact_AkselStark/data/1A/study_1A_mat_simple_cleaned\\S_05\\night_2\\EEG_raw.mat\n",
      "Done: //uni.au.dk/dfs/Tech_EarEEG/Students/RD2022_Artefact_AkselStark/data/1A/study_1A_mat_simple_cleaned\\S_05\\night_2\n",
      "//uni.au.dk/dfs/Tech_EarEEG/Students/RD2022_Artefact_AkselStark/data/1A/study_1A_mat_simple_cleaned\\S_05\\night_3\\EEG_raw.mat\n",
      "Done: //uni.au.dk/dfs/Tech_EarEEG/Students/RD2022_Artefact_AkselStark/data/1A/study_1A_mat_simple_cleaned\\S_05\\night_3\n",
      "//uni.au.dk/dfs/Tech_EarEEG/Students/RD2022_Artefact_AkselStark/data/1A/study_1A_mat_simple_cleaned\\S_05\\night_4\\EEG_raw.mat\n",
      "Done: //uni.au.dk/dfs/Tech_EarEEG/Students/RD2022_Artefact_AkselStark/data/1A/study_1A_mat_simple_cleaned\\S_05\\night_4\n",
      "//uni.au.dk/dfs/Tech_EarEEG/Students/RD2022_Artefact_AkselStark/data/1A/study_1A_mat_simple_cleaned\\S_06\\night_1\\EEG_raw.mat\n",
      "Done: //uni.au.dk/dfs/Tech_EarEEG/Students/RD2022_Artefact_AkselStark/data/1A/study_1A_mat_simple_cleaned\\S_06\\night_1\n",
      "//uni.au.dk/dfs/Tech_EarEEG/Students/RD2022_Artefact_AkselStark/data/1A/study_1A_mat_simple_cleaned\\S_06\\night_2\\EEG_raw.mat\n",
      "Done: //uni.au.dk/dfs/Tech_EarEEG/Students/RD2022_Artefact_AkselStark/data/1A/study_1A_mat_simple_cleaned\\S_06\\night_2\n",
      "//uni.au.dk/dfs/Tech_EarEEG/Students/RD2022_Artefact_AkselStark/data/1A/study_1A_mat_simple_cleaned\\S_06\\night_3\\EEG_raw.mat\n",
      "Done: //uni.au.dk/dfs/Tech_EarEEG/Students/RD2022_Artefact_AkselStark/data/1A/study_1A_mat_simple_cleaned\\S_06\\night_3\n",
      "//uni.au.dk/dfs/Tech_EarEEG/Students/RD2022_Artefact_AkselStark/data/1A/study_1A_mat_simple_cleaned\\S_06\\night_4\\EEG_raw.mat\n",
      "Done: //uni.au.dk/dfs/Tech_EarEEG/Students/RD2022_Artefact_AkselStark/data/1A/study_1A_mat_simple_cleaned\\S_06\\night_4\n",
      "//uni.au.dk/dfs/Tech_EarEEG/Students/RD2022_Artefact_AkselStark/data/1A/study_1A_mat_simple_cleaned\\S_07\\night_1\\EEG_raw.mat\n",
      "Done: //uni.au.dk/dfs/Tech_EarEEG/Students/RD2022_Artefact_AkselStark/data/1A/study_1A_mat_simple_cleaned\\S_07\\night_1\n",
      "//uni.au.dk/dfs/Tech_EarEEG/Students/RD2022_Artefact_AkselStark/data/1A/study_1A_mat_simple_cleaned\\S_07\\night_2\\EEG_raw.mat\n",
      "Done: //uni.au.dk/dfs/Tech_EarEEG/Students/RD2022_Artefact_AkselStark/data/1A/study_1A_mat_simple_cleaned\\S_07\\night_2\n",
      "//uni.au.dk/dfs/Tech_EarEEG/Students/RD2022_Artefact_AkselStark/data/1A/study_1A_mat_simple_cleaned\\S_07\\night_3\\EEG_raw.mat\n",
      "Done: //uni.au.dk/dfs/Tech_EarEEG/Students/RD2022_Artefact_AkselStark/data/1A/study_1A_mat_simple_cleaned\\S_07\\night_3\n",
      "//uni.au.dk/dfs/Tech_EarEEG/Students/RD2022_Artefact_AkselStark/data/1A/study_1A_mat_simple_cleaned\\S_07\\night_4\\EEG_raw.mat\n",
      "Done: //uni.au.dk/dfs/Tech_EarEEG/Students/RD2022_Artefact_AkselStark/data/1A/study_1A_mat_simple_cleaned\\S_07\\night_4\n",
      "//uni.au.dk/dfs/Tech_EarEEG/Students/RD2022_Artefact_AkselStark/data/1A/study_1A_mat_simple_cleaned\\S_08\\night_1\\EEG_raw.mat\n"
     ]
    }
   ],
   "source": [
    "\n",
    "clean_data_dir = '//uni.au.dk/dfs/Tech_EarEEG/Students/RD2022_Artefact_AkselStark/data/1A/study_1A_mat_simple_cleaned'\n",
    "raw_data_dir = '//uni.au.dk/dfs/Tech_EarEEG/Students/RD2022_Artefact_AkselStark/data/1A/study_1A_mat_simple'\n",
    "\n",
    "#Run through all the cleaned EEG files\n",
    "for subdir, dirs, files in os.walk(clean_data_dir):\n",
    "    for file in files:\n",
    "        if \"EEG\" in file and \"cleaned\" in subdir:\n",
    "            print(os.path.join(subdir, file))\n",
    "            annotated_data = annotate_single_night_artefacts(os.path.join(subdir, file)) #Annotate the data\n",
    "\n",
    "            #save to both cleaned and raw data dirs\n",
    "            raw_dir = subdir.replace('_cleaned','')\n",
    "\n",
    "            np.save(f'{os.path.join(subdir)}/artefact_annotations', annotated_data)\n",
    "            np.save(f'{os.path.join(raw_dir)}/artefact_annotations', annotated_data)\n",
    "\n",
    "            #save the shape of the array as well\n",
    "            np.save(f'{os.path.join(subdir)}/data_shape', annotated_data.shape)\n",
    "            np.save(f'{os.path.join(raw_dir)}/data_shape', annotated_data.shape)\n",
    "\n",
    "\n",
    "            print(f'Done: {subdir}')\n",
    "\n",
    "            "
   ]
  },
  {
   "cell_type": "markdown",
   "metadata": {},
   "source": []
  }
 ],
 "metadata": {
  "interpreter": {
   "hash": "2c71e2635ddc78baa0539050ec2b1f1c0228e09439b3b78f4d2f134097ad8afd"
  },
  "kernelspec": {
   "display_name": "Python 3.9.4 64-bit",
   "language": "python",
   "name": "python3"
  },
  "language_info": {
   "codemirror_mode": {
    "name": "ipython",
    "version": 3
   },
   "file_extension": ".py",
   "mimetype": "text/x-python",
   "name": "python",
   "nbconvert_exporter": "python",
   "pygments_lexer": "ipython3",
   "version": "3.9.4"
  },
  "orig_nbformat": 4
 },
 "nbformat": 4,
 "nbformat_minor": 2
}
