{
 "cells": [
  {
   "cell_type": "code",
   "execution_count": 2,
   "metadata": {},
   "outputs": [
    {
     "name": "stdout",
     "output_type": "stream",
     "text": [
      "../data/study_1A_mat_simple/S_01/night_1/artefact_annotations.npy\n",
      "../data/study_1A_mat_simple/S_01/night_1/EEG_raw_250hz.npy\n",
      "../data/study_1A_mat_simple/S_01/night_2/artefact_annotations.npy\n",
      "../data/study_1A_mat_simple/S_01/night_2/EEG_raw_250hz.npy\n",
      "../data/study_1A_mat_simple/S_01/night_3/artefact_annotations.npy\n",
      "../data/study_1A_mat_simple/S_01/night_3/EEG_raw_250hz.npy\n",
      "../data/study_1A_mat_simple/S_01/night_4/artefact_annotations.npy\n",
      "../data/study_1A_mat_simple/S_01/night_4/EEG_raw_250hz.npy\n",
      "../data/study_1A_mat_simple/S_02/night_1/artefact_annotations.npy\n",
      "../data/study_1A_mat_simple/S_02/night_1/EEG_raw_250hz.npy\n",
      "../data/study_1A_mat_simple/S_02/night_2/artefact_annotations.npy\n",
      "../data/study_1A_mat_simple/S_02/night_2/EEG_raw_250hz.npy\n",
      "../data/study_1A_mat_simple/S_02/night_3/artefact_annotations.npy\n",
      "../data/study_1A_mat_simple/S_02/night_3/EEG_raw_250hz.npy\n",
      "../data/study_1A_mat_simple/S_02/night_4/artefact_annotations.npy\n",
      "Lables for night 0 loaded\n",
      "../data/study_1A_mat_simple/S_02/night_4/EEG_raw_250hz.npy\n",
      "Night 0 data loaded\n",
      "../data/study_1A_mat_simple/S_03/night_1/artefact_annotations.npy\n",
      "Lables for night 1 loaded\n",
      "../data/study_1A_mat_simple/S_03/night_1/EEG_raw_250hz.npy\n",
      "Night 1 data loaded\n"
     ]
    }
   ],
   "source": [
    "import os\n",
    "import torch\n",
    "import numpy as np\n",
    "from torch import nn\n",
    "from torch.utils.data import DataLoader\n",
    "from dataset import EEGDataset\n",
    "from torch.utils.data import random_split\n",
    "import neptune.new as neptune\n",
    "from torchinfo import summary\n",
    "\n",
    "# Load in the model\n",
    "\n",
    "model = torch.jit.load(\"../trained_models/model_03_21_2022_23_43_59\")\n",
    "model.eval()\n",
    "\n",
    "\n",
    "# Load in some data (preferably unseen data for the model)\n",
    "raw_data_dir = '../data'\n",
    "\n",
    "trainingNights = 7\n",
    "testNights = 2\n",
    "ds2 = EEGDataset(raw_data_dir,testNights, 250, skips = trainingNights)"
   ]
  },
  {
   "cell_type": "code",
   "execution_count": 4,
   "metadata": {},
   "outputs": [
    {
     "name": "stdout",
     "output_type": "stream",
     "text": [
      "[2.77476220e+07 5.74304922e+04 2.71630605e+04 1.82442461e+04\n",
      " 1.36623799e+04 1.08836162e+04 9.21805859e+03 7.57056152e+03\n",
      " 6.94807373e+03 6.08125928e+03 5.39408838e+03 4.77386133e+03\n",
      " 4.39775830e+03 4.19847656e+03 3.91309546e+03 3.73485156e+03\n",
      " 3.37176660e+03 3.24123364e+03 3.03034009e+03 3.06833081e+03\n",
      " 2.77813184e+03 2.38866724e+03 2.56999390e+03 2.24286401e+03\n",
      " 2.49446411e+03 2.15530347e+03 2.19420215e+03 2.12036670e+03\n",
      " 2.05862061e+03 1.91278076e+03 1.81779688e+03 1.89916956e+03\n",
      " 1.64498132e+03 1.62205798e+03 1.64411267e+03 1.55515747e+03\n",
      " 1.65124451e+03 1.38185999e+03 1.56770105e+03 1.54368018e+03\n",
      " 1.31007239e+03 1.64983435e+03 1.20661328e+03 1.41062354e+03\n",
      " 1.32528784e+03 1.35250220e+03 1.16116064e+03 1.32590137e+03\n",
      " 1.14362524e+03 1.17220081e+03 1.26832825e+03 1.05378027e+03\n",
      " 1.14649683e+03 1.02590833e+03 1.00163525e+03 1.23801331e+03\n",
      " 8.43291382e+02 1.11732996e+03 9.43441833e+02 9.95824524e+02\n",
      " 9.34551575e+02 1.01328809e+03 8.63419495e+02 9.46224182e+02\n",
      " 9.04055542e+02 9.52998535e+02 9.34524109e+02 8.48689819e+02\n",
      " 8.30861084e+02 9.65482300e+02 8.12851807e+02 9.56974915e+02\n",
      " 8.92414062e+02 7.10366699e+02 8.92281616e+02 7.91674988e+02\n",
      " 8.34406433e+02 8.10968567e+02 8.89682922e+02 7.87542297e+02\n",
      " 9.05675354e+02 6.85962769e+02 8.29822388e+02 8.13179016e+02\n",
      " 7.82415222e+02 7.87207764e+02 7.49796509e+02 7.90499634e+02\n",
      " 7.67634338e+02 7.57720215e+02 7.48183411e+02 7.43086182e+02\n",
      " 7.17589844e+02 7.78425537e+02 6.90351196e+02 8.01613281e+02\n",
      " 6.82787231e+02 7.11983826e+02 7.50682861e+02 7.09854004e+02\n",
      " 7.19498474e+02 7.07276733e+02 7.09764404e+02 7.40738525e+02\n",
      " 6.64653259e+02 7.68229248e+02 6.57565247e+02 7.30962891e+02\n",
      " 7.13301514e+02 6.78272949e+02 7.40263428e+02 6.61403992e+02\n",
      " 7.37610596e+02 6.78978149e+02 6.89692688e+02 7.03462708e+02\n",
      " 6.86283630e+02 6.85196533e+02 6.86074768e+02 7.01753967e+02\n",
      " 6.83305847e+02 6.91352295e+02 6.97165283e+02 6.98764832e+02\n",
      " 6.64194397e+02 8.05101562e+02 6.64194397e+02 6.98764832e+02\n",
      " 6.97165283e+02 6.91352295e+02 6.83305847e+02 7.01753967e+02\n",
      " 6.86074768e+02 6.85196533e+02 6.86283630e+02 7.03462708e+02\n",
      " 6.89692688e+02 6.78978149e+02 7.37610596e+02 6.61403992e+02\n",
      " 7.40263428e+02 6.78272949e+02 7.13301514e+02 7.30962891e+02\n",
      " 6.57565247e+02 7.68229248e+02 6.64653259e+02 7.40738525e+02\n",
      " 7.09764404e+02 7.07276733e+02 7.19498474e+02 7.09854004e+02\n",
      " 7.50682861e+02 7.11983826e+02 6.82787231e+02 8.01613281e+02\n",
      " 6.90351196e+02 7.78425537e+02 7.17589844e+02 7.43086182e+02\n",
      " 7.48183411e+02 7.57720215e+02 7.67634338e+02 7.90499634e+02\n",
      " 7.49796509e+02 7.87207764e+02 7.82415222e+02 8.13179016e+02\n",
      " 8.29822388e+02 6.85962769e+02 9.05675354e+02 7.87542297e+02\n",
      " 8.89682922e+02 8.10968567e+02 8.34406433e+02 7.91674988e+02\n",
      " 8.92281616e+02 7.10366699e+02 8.92414062e+02 9.56974915e+02\n",
      " 8.12851807e+02 9.65482300e+02 8.30861084e+02 8.48689819e+02\n",
      " 9.34524109e+02 9.52998535e+02 9.04055542e+02 9.46224182e+02\n",
      " 8.63419495e+02 1.01328809e+03 9.34551575e+02 9.95824524e+02\n",
      " 9.43441833e+02 1.11732996e+03 8.43291382e+02 1.23801331e+03\n",
      " 1.00163525e+03 1.02590833e+03 1.14649683e+03 1.05378027e+03\n",
      " 1.26832825e+03 1.17220081e+03 1.14362524e+03 1.32590137e+03\n",
      " 1.16116064e+03 1.35250220e+03 1.32528784e+03 1.41062354e+03\n",
      " 1.20661328e+03 1.64983435e+03 1.31007239e+03 1.54368018e+03\n",
      " 1.56770105e+03 1.38185999e+03 1.65124451e+03 1.55515747e+03\n",
      " 1.64411267e+03 1.62205798e+03 1.64498132e+03 1.89916956e+03\n",
      " 1.81779688e+03 1.91278076e+03 2.05862061e+03 2.12036670e+03\n",
      " 2.19420215e+03 2.15530347e+03 2.49446411e+03 2.24286401e+03\n",
      " 2.56999390e+03 2.38866724e+03 2.77813184e+03 3.06833081e+03\n",
      " 3.03034009e+03 3.24123364e+03 3.37176660e+03 3.73485156e+03\n",
      " 3.91309546e+03 4.19847656e+03 4.39775830e+03 4.77386133e+03\n",
      " 5.39408838e+03 6.08125928e+03 6.94807373e+03 7.57056152e+03\n",
      " 9.21805859e+03 1.08836162e+04 1.36623799e+04 1.82442461e+04\n",
      " 2.71630605e+04 5.74304922e+04]\n"
     ]
    }
   ],
   "source": [
    "print(ds2[102][0])"
   ]
  },
  {
   "cell_type": "code",
   "execution_count": 80,
   "metadata": {},
   "outputs": [
    {
     "name": "stdout",
     "output_type": "stream",
     "text": [
      "600772\n",
      "[[     0.             0.             0.        ...      0.\n",
      "       0.             0.       ]\n",
      " [     0.             0.             0.        ...      0.\n",
      "       0.             0.       ]\n",
      " [     0.             0.             0.        ...      0.\n",
      "       0.             0.       ]\n",
      " ...\n",
      " [-89913.5546875 -89907.578125  -89907.515625  ... -89892.4921875\n",
      "  -89903.3046875 -89907.9140625]\n",
      " [-93874.6640625 -93867.6484375 -93875.9296875 ... -93865.6953125\n",
      "  -93874.390625  -93859.9609375]\n",
      " [ 88378.0859375  88363.9765625  88343.921875  ...  88491.6484375\n",
      "   88553.578125   88544.1796875]]\n"
     ]
    }
   ],
   "source": [
    "index = 102\n",
    "channel = ds2[index][2]\n",
    "start = ds2[index][3]\n",
    "data = np.zeros((25, ds2.sectionLength))\n",
    "for i in range(25):\n",
    "    data[i,:] = ds2.data[i, start : start + ds2.sectionLength]\n",
    "    \n",
    "\n",
    "\n",
    "\n",
    "print(data)"
   ]
  },
  {
   "cell_type": "code",
   "execution_count": null,
   "metadata": {},
   "outputs": [],
   "source": []
  }
 ],
 "metadata": {
  "kernelspec": {
   "display_name": "Python 3 (ipykernel)",
   "language": "python",
   "name": "python3"
  },
  "language_info": {
   "codemirror_mode": {
    "name": "ipython",
    "version": 3
   },
   "file_extension": ".py",
   "mimetype": "text/x-python",
   "name": "python",
   "nbconvert_exporter": "python",
   "pygments_lexer": "ipython3",
   "version": "3.8.5"
  }
 },
 "nbformat": 4,
 "nbformat_minor": 2
}
