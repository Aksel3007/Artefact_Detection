{
 "cells": [
  {
   "cell_type": "code",
   "execution_count": 1,
   "metadata": {},
   "outputs": [
    {
     "name": "stdout",
     "output_type": "stream",
     "text": [
      "/usr/bin/python3\n"
     ]
    }
   ],
   "source": [
    "!which python3\n",
    "import os\n",
    "import torch\n",
    "import numpy as np\n",
    "from torch import nn\n",
    "from torch.utils.data import DataLoader\n",
    "from dataset_spectrogram import EEGDataset\n",
    "from torch.utils.data import random_split\n",
    "import neptune.new as neptune\n",
    "from torchinfo import summary\n",
    "from dataset_spectrogram import load_dataset\n",
    "import random\n",
    "import torch.utils.data as data"
   ]
  },
  {
   "cell_type": "code",
   "execution_count": 2,
   "metadata": {},
   "outputs": [
    {
     "name": "stdout",
     "output_type": "stream",
     "text": [
      "\n",
      "\n",
      "Training set\n",
      "\n",
      "../data/study_1A_mat_simple/S_01/night_1/spectrogram_bad_segments.npy\n",
      "../data/study_1A_mat_simple/S_01/night_1/spectrogra_good_segments.npy\n",
      "Memory usage: 148.823291 MB\n",
      "\n",
      "../data/study_1A_mat_simple/S_01/night_1/spectrogram_good_segments.npy\n",
      "../data/study_1A_mat_simple/S_01/night_2/spectrogram_bad_segments.npy\n",
      "Memory usage: 266.361048 MB\n",
      "\n",
      "../data/study_1A_mat_simple/S_01/night_2/spectrogram_good_segments.npy\n",
      "../data/study_1A_mat_simple/S_01/night_3/spectrogram_bad_segments.npy\n",
      "Memory usage: 371.216066 MB\n",
      "\n",
      "../data/study_1A_mat_simple/S_01/night_3/spectrogram_good_segments.npy\n",
      "../data/study_1A_mat_simple/S_01/night_4/spectrogram_bad_segments.npy\n",
      "Memory usage: 507.576524 MB\n",
      "\n",
      "../data/study_1A_mat_simple/S_01/night_4/spectrogram_good_segments.npy\n",
      "../data/study_1A_mat_simple/S_02/night_1/spectrogram_bad_segments.npy\n",
      "Memory usage: 693.987222 MB\n",
      "\n",
      "../data/study_1A_mat_simple/S_02/night_1/spectrogram_good_segments.npy\n",
      "../data/study_1A_mat_simple/S_02/night_2/spectrogram_bad_segments.npy\n",
      "Memory usage: 986.722962 MB\n",
      "\n",
      "../data/study_1A_mat_simple/S_02/night_2/spectrogram_good_segments.npy\n",
      "../data/study_1A_mat_simple/S_02/night_3/spectrogram_bad_segments.npy\n",
      "Memory usage: 1296.54423 MB\n",
      "\n",
      "../data/study_1A_mat_simple/S_02/night_3/spectrogram_good_segments.npy\n",
      "../data/study_1A_mat_simple/S_02/night_4/spectrogram_bad_segments.npy\n",
      "Memory usage: 1516.43181 MB\n",
      "\n",
      "../data/study_1A_mat_simple/S_02/night_4/spectrogram_good_segments.npy\n",
      "../data/study_1A_mat_simple/S_03/night_1/spectrogram_bad_segments.npy\n",
      "Memory usage: 1742.992362 MB\n",
      "\n",
      "../data/study_1A_mat_simple/S_03/night_1/spectrogram_good_segments.npy\n",
      "../data/study_1A_mat_simple/S_03/night_2/spectrogram_bad_segments.npy\n",
      "Memory usage: 1980.308338 MB\n",
      "\n",
      "../data/study_1A_mat_simple/S_03/night_2/spectrogram_good_segments.npy\n",
      "../data/study_1A_mat_simple/S_03/night_3/spectrogram_bad_segments.npy\n",
      "Memory usage: 2202.80665 MB\n",
      "\n",
      "../data/study_1A_mat_simple/S_03/night_3/spectrogram_good_segments.npy\n",
      "../data/study_1A_mat_simple/S_03/night_4/spectrogram_bad_segments.npy\n",
      "Memory usage: 2447.289442 MB\n",
      "\n",
      "../data/study_1A_mat_simple/S_03/night_4/spectrogram_good_segments.npy\n",
      "../data/study_1A_mat_simple/S_04/night_1/spectrogram_bad_segments.npy\n",
      "Memory usage: 2621.292874 MB\n",
      "\n",
      "../data/study_1A_mat_simple/S_04/night_1/spectrogram_good_segments.npy\n",
      "../data/study_1A_mat_simple/S_04/night_2/spectrogram_bad_segments.npy\n",
      "Memory usage: 2743.051714 MB\n",
      "\n",
      "../data/study_1A_mat_simple/S_04/night_2/spectrogram_good_segments.npy\n",
      "../data/study_1A_mat_simple/S_04/night_3/spectrogram_bad_segments.npy\n",
      "Memory usage: 2887.077226 MB\n",
      "\n",
      "../data/study_1A_mat_simple/S_04/night_3/spectrogram_good_segments.npy\n",
      "../data/study_1A_mat_simple/S_04/night_4/spectrogram_bad_segments.npy\n",
      "Memory usage: 3226.56397 MB\n",
      "\n",
      "../data/study_1A_mat_simple/S_04/night_4/spectrogram_good_segments.npy\n",
      "../data/study_1A_mat_simple/S_05/night_1/spectrogram_bad_segments.npy\n",
      "Memory usage: 3736.543882 MB\n",
      "\n",
      "../data/study_1A_mat_simple/S_05/night_1/spectrogram_good_segments.npy\n",
      "../data/study_1A_mat_simple/S_05/night_2/spectrogram_bad_segments.npy\n",
      "Memory usage: 4075.365522 MB\n",
      "\n",
      "\n",
      "Test set\n",
      "\n",
      "../data/study_1A_mat_simple/S_05/night_2/spectrogram_good_segments.npy\n",
      "../data/study_1A_mat_simple/S_05/night_3/spectrogram_bad_segments.npy\n",
      "Memory usage: 4587.455261 MB\n",
      "\n",
      "../data/study_1A_mat_simple/S_05/night_3/spectrogram_good_segments.npy\n",
      "../data/study_1A_mat_simple/S_05/night_4/spectrogram_bad_segments.npy\n",
      "Memory usage: 5158.842229 MB\n",
      "\n",
      "../data/study_1A_mat_simple/S_05/night_4/spectrogram_good_segments.npy\n",
      "../data/study_1A_mat_simple/S_06/night_1/spectrogram_bad_segments.npy\n",
      "Memory usage: 5657.481805 MB\n",
      "\n",
      "../data/study_1A_mat_simple/S_06/night_1/spectrogram_good_segments.npy\n",
      "../data/study_1A_mat_simple/S_06/night_2/spectrogram_bad_segments.npy\n",
      "Memory usage: 6107.072037 MB\n",
      "\n"
     ]
    }
   ],
   "source": [
    "# load in the dataset\n",
    "\n",
    "\n",
    "raw_data_dir = '../data'\n",
    "\n",
    "trainingNights = 18\n",
    "testNights = 4\n",
    "\n",
    "print(\"\\n\\nTraining set\\n\")\n",
    "training_set = load_dataset(range(trainingNights), raw_data_dir)\n",
    "\n",
    "print(\"\\nTest set\\n\")\n",
    "test_set = load_dataset([x+trainingNights for x in range(testNights)], raw_data_dir)"
   ]
  },
  {
   "cell_type": "code",
   "execution_count": 48,
   "metadata": {},
   "outputs": [
    {
     "name": "stdout",
     "output_type": "stream",
     "text": [
      "Using cpu device\n"
     ]
    }
   ],
   "source": [
    "device = 'cuda' if torch.cuda.is_available() else 'cpu' #Check for cuda \n",
    "print(f'Using {device} device')\n",
    "\n",
    "class NeuralNetwork(nn.Module):\n",
    "    def __init__(self):\n",
    "        super(NeuralNetwork, self).__init__()\n",
    "        #self.flatten = nn.Flatten()\n",
    "        self.conv_stack = nn.Sequential(\n",
    "            nn.Conv2d(batch_size,32,kernel_size=3,padding=1),\n",
    "            nn.ReLU(),\n",
    "            nn.Conv2d(32,64,kernel_size=3,stride=1,padding=1),\n",
    "            nn.ReLU(),\n",
    "            nn.MaxPool2d(2,2),\n",
    "\n",
    "            nn.Conv2d(64,128,kernel_size=3,stride=1,padding=1),\n",
    "            nn.ReLU(),\n",
    "            nn.Conv2d(128,64,kernel_size=3,stride=1,padding=1),\n",
    "            nn.ReLU(),\n",
    "            nn.MaxPool2d(2,2),\n",
    "\n",
    "            nn.Flatten(),\n",
    "            nn.Linear(155, 512),\n",
    "            nn.ReLU(),\n",
    "            nn.Linear(512,1),\n",
    "            nn.Sigmoid(),\n",
    "        )\n",
    "\n",
    "    def forward(self, x):\n",
    "        #x = self.flatten(x)\n",
    "        logits = self.conv_stack(x)\n",
    "        return logits"
   ]
  },
  {
   "cell_type": "code",
   "execution_count": 49,
   "metadata": {},
   "outputs": [],
   "source": [
    "learning_rate = 1e-5\n",
    "batch_size = 64\n",
    "\n",
    "\n",
    "model = NeuralNetwork()\n",
    "model.to(device)\n",
    "\n",
    "#pos_weight: amount of positive examples compared to negative examples. Calculate as: negative_examples/positive_examples\n",
    "loss = nn.BCEWithLogitsLoss() \n",
    "\n",
    "#optimizer = torch.optim.SGD(model.parameters(), lr=learning_rate)\n",
    "optimizer = torch.optim.Adam(model.parameters(), lr=learning_rate)"
   ]
  },
  {
   "cell_type": "code",
   "execution_count": 51,
   "metadata": {},
   "outputs": [],
   "source": [
    "def train_loop(dataloader, model, loss_fn, optimizer):\n",
    "    size = len(dataloader.dataset)\n",
    "    \n",
    "    for batch, (X, y) in enumerate(dataloader):\n",
    "        X = X.to(device)\n",
    "        y = y.to(device)\n",
    "        # Compute prediction and loss\n",
    "        pred = model(X) \n",
    "        pred = pred.reshape(-1)\n",
    "        pred = pred.to(device)\n",
    "        yFloat = y.type(torch.FloatTensor).to(device)\n",
    "        \n",
    "        loss = loss_fn(pred, yFloat)\n",
    "        \n",
    "        # Backpropagation\n",
    "        optimizer.zero_grad()\n",
    "        loss.backward()\n",
    "        optimizer.step()\n",
    "        \n",
    "        # Neptune logging\n",
    "        run[\"training/batch/loss\"].log(loss)\n",
    "        \n",
    "\n",
    "        if batch % 1000 == 0:\n",
    "            loss, current = loss.item(), batch * len(X)\n",
    "            print(f\"loss: {loss:>7f}  [{current:>5d}/{size:>5d}]\")\n",
    "        \n",
    "        if batch % 10000 == 0:\n",
    "            print(f\"Predicted values: \\n{pred}\")\n",
    "            print(f\"Actual values: \\n{yFloat}\")\n",
    "            print(f\"Difference: \\n{(yFloat-pred)}\")\n",
    "\n",
    "\n",
    "def test_loop(dataloader_test, model, loss_fn, test_set = True):\n",
    "    size = len(dataloader_test.dataset)\n",
    "    num_batches = len(dataloader_test)\n",
    "    test_loss, correct = 0, 0\n",
    "\n",
    "    with torch.no_grad():\n",
    "        for X, y in dataloader_test:\n",
    "            X = X.to(device)\n",
    "            y = y.to(device)\n",
    "            pred = model(X).reshape(-1).to(device) # Reshape to 1 dimension if using binary classification, otherwise keep dimensions from model output\n",
    "            test_loss += loss_fn(pred, y.type(torch.FloatTensor).to(device)).item()\n",
    "            correct += (pred.round() == y).type(torch.float).sum().item()\n",
    "            \n",
    "\n",
    "    test_loss /= num_batches\n",
    "    correct /= size\n",
    "    \n",
    "    \n",
    "    \n",
    "    if test_set:\n",
    "        print(f\"Test set Error: \\n Test Set Accuracy: {(100*correct):>0.5f}%, Avg Test Set loss: {test_loss:>8f} \\n\")\n",
    "        \n",
    "        # Neptune logging\n",
    "        run[\"testing/batch/test_loss\"].log(test_loss)\n",
    "        run[\"testing/batch/test_Acc\"].log(100*correct)\n",
    "    \n",
    "    else:\n",
    "        print(f\"Training Set Error: \\n Training Set Accuracy: {(100*correct):>0.5f}%, Avg Training Set loss: {test_loss:>8f} \\n\")\n",
    "        \n",
    "        # Neptune logging\n",
    "        run[\"testing/batch/training_loss\"].log(test_loss)\n",
    "        run[\"testing/batch/training_Acc\"].log(100*correct)\n",
    "        "
   ]
  },
  {
   "cell_type": "code",
   "execution_count": 52,
   "metadata": {},
   "outputs": [],
   "source": [
    "train_dataloader = DataLoader(training_set, batch_size=64, drop_last = True) # Drop_last, to avoid incomplete batches, which won't work with weighted loss\n",
    "test_dataloader = DataLoader(test_set, batch_size=64, drop_last = True) # Drop_last, to avoid incomplete batches, which won't work with weighted loss\n"
   ]
  },
  {
   "cell_type": "code",
   "execution_count": 53,
   "metadata": {},
   "outputs": [
    {
     "name": "stdout",
     "output_type": "stream",
     "text": [
      "https://app.neptune.ai/NTLAB/artifactDetect-ear/e/AR-6\n",
      "Remember to stop your run once you’ve finished logging your metadata (https://docs.neptune.ai/api-reference/run#.stop). It will be stopped automatically only when the notebook kernel/interactive console is terminated.\n"
     ]
    }
   ],
   "source": [
    "\n",
    "run = neptune.init(\n",
    "    project=\"NTLAB/artifactDetect-ear\", \n",
    "    api_token=\"eyJhcGlfYWRkcmVzcyI6Imh0dHBzOi8vYXBwLm5lcHR1bmUuYWkiLCJhcGlfdXJsIjoiaHR0cHM6Ly9hcHAubmVwdHVuZS5haSIsImFwaV9rZXkiOiIxYTA4NzcxMy1lYmQ2LTQ3NTctYjRhNC02Mzk1NjdjMWM0NmYifQ==\", # your credentials\n",
    "    source_files=[\"trainModel_spectrogram.ipynb\", \"dataset_spectrogram.py\"]\n",
    ")  # Credentials\n",
    "\n",
    "\n",
    "run['config/dataset/size'] = trainingNights \n",
    "run['config/model'] = type(model).__name__\n",
    "run['config/modelSummary'] = str(model)\n",
    "run['config/optimizer'] = type(optimizer).__name__\n",
    "run['config/batch_size'] = batch_size\n",
    "run['config/test_night'] = testNights\n",
    "run['config/learning_rate'] = learning_rate\n"
   ]
  },
  {
   "cell_type": "code",
   "execution_count": 54,
   "metadata": {},
   "outputs": [
    {
     "name": "stdout",
     "output_type": "stream",
     "text": [
      "Epoch 1\n",
      "-------------------------------\n",
      "loss: 0.630615  [    0/322876]\n",
      "Predicted values: \n",
      "tensor([0.9999, 0.4577, 0.9999, 0.4577, 0.9999, 0.4577, 1.0000, 0.4577, 1.0000,\n",
      "        0.4577, 0.9999, 0.4577, 0.9999, 0.4577, 0.9999, 0.4577, 1.0000, 0.4577,\n",
      "        1.0000, 0.4577, 0.9999, 0.4577, 0.9993, 0.4577, 0.9998, 0.4577, 1.0000,\n",
      "        0.4577, 1.0000, 0.4577, 1.0000, 0.4577, 0.9999, 0.4577, 0.9999, 0.4577,\n",
      "        1.0000, 0.4577, 0.9999, 0.4577, 0.9999, 0.4577, 0.9999, 0.4577, 1.0000,\n",
      "        0.4577, 1.0000, 0.4577, 0.9999, 0.4577, 0.9999, 0.4577, 0.9999, 0.4577,\n",
      "        1.0000, 0.4577, 1.0000, 0.4577, 0.9999, 0.4577, 0.9999, 0.4577, 0.9999,\n",
      "        0.4577], grad_fn=<ReshapeAliasBackward0>)\n",
      "Actual values: \n",
      "tensor([1., 0., 1., 0., 1., 0., 1., 0., 1., 0., 1., 0., 1., 0., 1., 0., 1., 0.,\n",
      "        1., 0., 1., 0., 1., 0., 1., 0., 1., 0., 1., 0., 1., 0., 1., 0., 1., 0.,\n",
      "        1., 0., 1., 0., 1., 0., 1., 0., 1., 0., 1., 0., 1., 0., 1., 0., 1., 0.,\n",
      "        1., 0., 1., 0., 1., 0., 1., 0., 1., 0.])\n",
      "Difference: \n",
      "tensor([ 1.2469e-04, -4.5768e-01,  5.5075e-05, -4.5768e-01,  7.3075e-05,\n",
      "        -4.5768e-01,  3.3617e-05, -4.5768e-01,  4.0293e-05, -4.5768e-01,\n",
      "         8.3804e-05, -4.5768e-01,  7.4863e-05, -4.5768e-01,  7.6175e-05,\n",
      "        -4.5768e-01,  3.8862e-05, -4.5768e-01,  4.8757e-05, -4.5768e-01,\n",
      "         8.9169e-05, -4.5768e-01,  7.2771e-04, -4.5768e-01,  2.0963e-04,\n",
      "        -4.5768e-01,  1.9908e-05, -4.5768e-01,  1.5378e-05, -4.5768e-01,\n",
      "         3.1471e-05, -4.5768e-01,  6.6519e-05, -4.5768e-01,  1.3328e-04,\n",
      "        -4.5768e-01,  3.7313e-05, -4.5768e-01,  1.0347e-04, -4.5768e-01,\n",
      "         7.8559e-05, -4.5768e-01,  5.9485e-05, -4.5768e-01,  2.3007e-05,\n",
      "        -4.5768e-01,  3.2187e-05, -4.5768e-01,  1.0836e-04, -4.5768e-01,\n",
      "         8.6665e-05, -4.5768e-01,  5.8293e-05, -4.5768e-01,  4.1246e-05,\n",
      "        -4.5768e-01,  2.8133e-05, -4.5768e-01,  8.3447e-05, -4.5768e-01,\n",
      "         5.9009e-05, -4.5768e-01,  5.7340e-05, -4.5768e-01],\n",
      "       grad_fn=<SubBackward0>)\n",
      "loss: 0.613684  [64000/322876]\n",
      "loss: 0.596259  [128000/322876]\n",
      "loss:     nan  [192000/322876]\n"
     ]
    },
    {
     "name": "stderr",
     "output_type": "stream",
     "text": [
      "Error occurred during asynchronous operation processing: Cannot log infinite or NaN value to attribute training/batch/loss\n",
      "Error occurred during asynchronous operation processing: Cannot log infinite or NaN value to attribute training/batch/loss\n",
      "Error occurred during asynchronous operation processing: Cannot log infinite or NaN value to attribute training/batch/loss\n",
      "Error occurred during asynchronous operation processing: Cannot log infinite or NaN value to attribute training/batch/loss\n",
      "Error occurred during asynchronous operation processing: Cannot log infinite or NaN value to attribute training/batch/loss\n",
      "Error occurred during asynchronous operation processing: Cannot log infinite or NaN value to attribute training/batch/loss\n",
      "Error occurred during asynchronous operation processing: Cannot log infinite or NaN value to attribute training/batch/loss\n",
      "Error occurred during asynchronous operation processing: Cannot log infinite or NaN value to attribute training/batch/loss\n"
     ]
    },
    {
     "name": "stdout",
     "output_type": "stream",
     "text": [
      "loss:     nan  [256000/322876]\n"
     ]
    },
    {
     "name": "stderr",
     "output_type": "stream",
     "text": [
      "Error occurred during asynchronous operation processing: Cannot log infinite or NaN value to attribute training/batch/loss\n",
      "Error occurred during asynchronous operation processing: Cannot log infinite or NaN value to attribute training/batch/loss\n",
      "Error occurred during asynchronous operation processing: Cannot log infinite or NaN value to attribute training/batch/loss\n"
     ]
    },
    {
     "name": "stdout",
     "output_type": "stream",
     "text": [
      "loss:     nan  [320000/322876]\n"
     ]
    },
    {
     "name": "stderr",
     "output_type": "stream",
     "text": [
      "Error occurred during asynchronous operation processing: Cannot log infinite or NaN value to attribute training/batch/loss\n"
     ]
    },
    {
     "name": "stdout",
     "output_type": "stream",
     "text": [
      "Test set Error: \n",
      " Test Set Accuracy: 0.00000%, Avg Test Set loss:      nan \n",
      "\n"
     ]
    },
    {
     "name": "stderr",
     "output_type": "stream",
     "text": [
      "Error occurred during asynchronous operation processing: Cannot log infinite or NaN value to attribute testing/batch/test_loss\n"
     ]
    },
    {
     "name": "stdout",
     "output_type": "stream",
     "text": [
      "Training Set Error: \n",
      " Training Set Accuracy: 0.00000%, Avg Training Set loss:      nan \n",
      "\n",
      "Epoch 2\n",
      "-------------------------------\n",
      "loss:     nan  [    0/322876]\n",
      "Predicted values: \n",
      "tensor([nan, nan, nan, nan, nan, nan, nan, nan, nan, nan, nan, nan, nan, nan, nan, nan, nan, nan, nan, nan, nan, nan, nan, nan,\n",
      "        nan, nan, nan, nan, nan, nan, nan, nan, nan, nan, nan, nan, nan, nan, nan, nan, nan, nan, nan, nan, nan, nan, nan, nan,\n",
      "        nan, nan, nan, nan, nan, nan, nan, nan, nan, nan, nan, nan, nan, nan, nan, nan],\n",
      "       grad_fn=<ReshapeAliasBackward0>)\n",
      "Actual values: \n",
      "tensor([1., 0., 1., 0., 1., 0., 1., 0., 1., 0., 1., 0., 1., 0., 1., 0., 1., 0.,\n",
      "        1., 0., 1., 0., 1., 0., 1., 0., 1., 0., 1., 0., 1., 0., 1., 0., 1., 0.,\n",
      "        1., 0., 1., 0., 1., 0., 1., 0., 1., 0., 1., 0., 1., 0., 1., 0., 1., 0.,\n",
      "        1., 0., 1., 0., 1., 0., 1., 0., 1., 0.])\n",
      "Difference: \n",
      "tensor([nan, nan, nan, nan, nan, nan, nan, nan, nan, nan, nan, nan, nan, nan, nan, nan, nan, nan, nan, nan, nan, nan, nan, nan,\n",
      "        nan, nan, nan, nan, nan, nan, nan, nan, nan, nan, nan, nan, nan, nan, nan, nan, nan, nan, nan, nan, nan, nan, nan, nan,\n",
      "        nan, nan, nan, nan, nan, nan, nan, nan, nan, nan, nan, nan, nan, nan, nan, nan],\n",
      "       grad_fn=<SubBackward0>)\n"
     ]
    },
    {
     "name": "stderr",
     "output_type": "stream",
     "text": [
      "Error occurred during asynchronous operation processing: Cannot log infinite or NaN value to attribute testing/batch/training_loss\n",
      "Error occurred during asynchronous operation processing: Cannot log infinite or NaN value to attribute training/batch/loss\n",
      "Error occurred during asynchronous operation processing: Cannot log infinite or NaN value to attribute training/batch/loss\n",
      "Error occurred during asynchronous operation processing: Cannot log infinite or NaN value to attribute training/batch/loss\n",
      "Error occurred during asynchronous operation processing: Cannot log infinite or NaN value to attribute training/batch/loss\n",
      "Error occurred during asynchronous operation processing: Cannot log infinite or NaN value to attribute training/batch/loss\n",
      "Error occurred during asynchronous operation processing: Cannot log infinite or NaN value to attribute training/batch/loss\n"
     ]
    },
    {
     "name": "stdout",
     "output_type": "stream",
     "text": [
      "loss:     nan  [64000/322876]\n"
     ]
    },
    {
     "name": "stderr",
     "output_type": "stream",
     "text": [
      "Error occurred during asynchronous operation processing: Cannot log infinite or NaN value to attribute training/batch/loss\n",
      "Error occurred during asynchronous operation processing: Cannot log infinite or NaN value to attribute training/batch/loss\n",
      "Error occurred during asynchronous operation processing: Cannot log infinite or NaN value to attribute training/batch/loss\n"
     ]
    },
    {
     "name": "stdout",
     "output_type": "stream",
     "text": [
      "loss:     nan  [128000/322876]\n"
     ]
    },
    {
     "name": "stderr",
     "output_type": "stream",
     "text": [
      "Error occurred during asynchronous operation processing: Cannot log infinite or NaN value to attribute training/batch/loss\n"
     ]
    },
    {
     "ename": "KeyboardInterrupt",
     "evalue": "",
     "output_type": "error",
     "traceback": [
      "\u001b[0;31m---------------------------------------------------------------------------\u001b[0m",
      "\u001b[0;31mKeyboardInterrupt\u001b[0m                         Traceback (most recent call last)",
      "\u001b[1;32m/home/aron/Artefact_Detection/train_model_spectrogram.ipynb Cell 8'\u001b[0m in \u001b[0;36m<module>\u001b[0;34m\u001b[0m\n\u001b[1;32m      <a href='vscode-notebook-cell://ssh-remote%2Bgpucluster.st.lab.au.dk/home/aron/Artefact_Detection/train_model_spectrogram.ipynb#ch0000007vscode-remote?line=1'>2</a>\u001b[0m \u001b[39mfor\u001b[39;00m t \u001b[39min\u001b[39;00m \u001b[39mrange\u001b[39m(epochs):\n\u001b[1;32m      <a href='vscode-notebook-cell://ssh-remote%2Bgpucluster.st.lab.au.dk/home/aron/Artefact_Detection/train_model_spectrogram.ipynb#ch0000007vscode-remote?line=2'>3</a>\u001b[0m     \u001b[39mprint\u001b[39m(\u001b[39mf\u001b[39m\u001b[39m\"\u001b[39m\u001b[39mEpoch \u001b[39m\u001b[39m{\u001b[39;00mt\u001b[39m+\u001b[39m\u001b[39m1\u001b[39m\u001b[39m}\u001b[39;00m\u001b[39m\\n\u001b[39;00m\u001b[39m-------------------------------\u001b[39m\u001b[39m\"\u001b[39m)\n\u001b[0;32m----> <a href='vscode-notebook-cell://ssh-remote%2Bgpucluster.st.lab.au.dk/home/aron/Artefact_Detection/train_model_spectrogram.ipynb#ch0000007vscode-remote?line=4'>5</a>\u001b[0m     train_loop(train_dataloader, model, loss, optimizer)    \n\u001b[1;32m      <a href='vscode-notebook-cell://ssh-remote%2Bgpucluster.st.lab.au.dk/home/aron/Artefact_Detection/train_model_spectrogram.ipynb#ch0000007vscode-remote?line=5'>6</a>\u001b[0m     test_loop(test_dataloader, model, loss)\n\u001b[1;32m      <a href='vscode-notebook-cell://ssh-remote%2Bgpucluster.st.lab.au.dk/home/aron/Artefact_Detection/train_model_spectrogram.ipynb#ch0000007vscode-remote?line=6'>7</a>\u001b[0m     test_loop(train_dataloader, model, loss, test_set \u001b[39m=\u001b[39m \u001b[39mFalse\u001b[39;00m)\n",
      "\u001b[1;32m/home/aron/Artefact_Detection/train_model_spectrogram.ipynb Cell 5'\u001b[0m in \u001b[0;36mtrain_loop\u001b[0;34m(dataloader, model, loss_fn, optimizer)\u001b[0m\n\u001b[1;32m     <a href='vscode-notebook-cell://ssh-remote%2Bgpucluster.st.lab.au.dk/home/aron/Artefact_Detection/train_model_spectrogram.ipynb#ch0000004vscode-remote?line=14'>15</a>\u001b[0m \u001b[39m# Backpropagation\u001b[39;00m\n\u001b[1;32m     <a href='vscode-notebook-cell://ssh-remote%2Bgpucluster.st.lab.au.dk/home/aron/Artefact_Detection/train_model_spectrogram.ipynb#ch0000004vscode-remote?line=15'>16</a>\u001b[0m optimizer\u001b[39m.\u001b[39mzero_grad()\n\u001b[0;32m---> <a href='vscode-notebook-cell://ssh-remote%2Bgpucluster.st.lab.au.dk/home/aron/Artefact_Detection/train_model_spectrogram.ipynb#ch0000004vscode-remote?line=16'>17</a>\u001b[0m loss\u001b[39m.\u001b[39;49mbackward()\n\u001b[1;32m     <a href='vscode-notebook-cell://ssh-remote%2Bgpucluster.st.lab.au.dk/home/aron/Artefact_Detection/train_model_spectrogram.ipynb#ch0000004vscode-remote?line=17'>18</a>\u001b[0m optimizer\u001b[39m.\u001b[39mstep()\n\u001b[1;32m     <a href='vscode-notebook-cell://ssh-remote%2Bgpucluster.st.lab.au.dk/home/aron/Artefact_Detection/train_model_spectrogram.ipynb#ch0000004vscode-remote?line=19'>20</a>\u001b[0m \u001b[39m# Neptune logging\u001b[39;00m\n",
      "File \u001b[0;32m~/.local/lib/python3.8/site-packages/torch/_tensor.py:363\u001b[0m, in \u001b[0;36mTensor.backward\u001b[0;34m(self, gradient, retain_graph, create_graph, inputs)\u001b[0m\n\u001b[1;32m    <a href='file:///home/aron/.local/lib/python3.8/site-packages/torch/_tensor.py?line=353'>354</a>\u001b[0m \u001b[39mif\u001b[39;00m has_torch_function_unary(\u001b[39mself\u001b[39m):\n\u001b[1;32m    <a href='file:///home/aron/.local/lib/python3.8/site-packages/torch/_tensor.py?line=354'>355</a>\u001b[0m     \u001b[39mreturn\u001b[39;00m handle_torch_function(\n\u001b[1;32m    <a href='file:///home/aron/.local/lib/python3.8/site-packages/torch/_tensor.py?line=355'>356</a>\u001b[0m         Tensor\u001b[39m.\u001b[39mbackward,\n\u001b[1;32m    <a href='file:///home/aron/.local/lib/python3.8/site-packages/torch/_tensor.py?line=356'>357</a>\u001b[0m         (\u001b[39mself\u001b[39m,),\n\u001b[0;32m   (...)\u001b[0m\n\u001b[1;32m    <a href='file:///home/aron/.local/lib/python3.8/site-packages/torch/_tensor.py?line=360'>361</a>\u001b[0m         create_graph\u001b[39m=\u001b[39mcreate_graph,\n\u001b[1;32m    <a href='file:///home/aron/.local/lib/python3.8/site-packages/torch/_tensor.py?line=361'>362</a>\u001b[0m         inputs\u001b[39m=\u001b[39minputs)\n\u001b[0;32m--> <a href='file:///home/aron/.local/lib/python3.8/site-packages/torch/_tensor.py?line=362'>363</a>\u001b[0m torch\u001b[39m.\u001b[39;49mautograd\u001b[39m.\u001b[39;49mbackward(\u001b[39mself\u001b[39;49m, gradient, retain_graph, create_graph, inputs\u001b[39m=\u001b[39;49minputs)\n",
      "File \u001b[0;32m~/.local/lib/python3.8/site-packages/torch/autograd/__init__.py:173\u001b[0m, in \u001b[0;36mbackward\u001b[0;34m(tensors, grad_tensors, retain_graph, create_graph, grad_variables, inputs)\u001b[0m\n\u001b[1;32m    <a href='file:///home/aron/.local/lib/python3.8/site-packages/torch/autograd/__init__.py?line=167'>168</a>\u001b[0m     retain_graph \u001b[39m=\u001b[39m create_graph\n\u001b[1;32m    <a href='file:///home/aron/.local/lib/python3.8/site-packages/torch/autograd/__init__.py?line=169'>170</a>\u001b[0m \u001b[39m# The reason we repeat same the comment below is that\u001b[39;00m\n\u001b[1;32m    <a href='file:///home/aron/.local/lib/python3.8/site-packages/torch/autograd/__init__.py?line=170'>171</a>\u001b[0m \u001b[39m# some Python versions print out the first line of a multi-line function\u001b[39;00m\n\u001b[1;32m    <a href='file:///home/aron/.local/lib/python3.8/site-packages/torch/autograd/__init__.py?line=171'>172</a>\u001b[0m \u001b[39m# calls in the traceback and some print out the last line\u001b[39;00m\n\u001b[0;32m--> <a href='file:///home/aron/.local/lib/python3.8/site-packages/torch/autograd/__init__.py?line=172'>173</a>\u001b[0m Variable\u001b[39m.\u001b[39;49m_execution_engine\u001b[39m.\u001b[39;49mrun_backward(  \u001b[39m# Calls into the C++ engine to run the backward pass\u001b[39;49;00m\n\u001b[1;32m    <a href='file:///home/aron/.local/lib/python3.8/site-packages/torch/autograd/__init__.py?line=173'>174</a>\u001b[0m     tensors, grad_tensors_, retain_graph, create_graph, inputs,\n\u001b[1;32m    <a href='file:///home/aron/.local/lib/python3.8/site-packages/torch/autograd/__init__.py?line=174'>175</a>\u001b[0m     allow_unreachable\u001b[39m=\u001b[39;49m\u001b[39mTrue\u001b[39;49;00m, accumulate_grad\u001b[39m=\u001b[39;49m\u001b[39mTrue\u001b[39;49;00m)\n",
      "\u001b[0;31mKeyboardInterrupt\u001b[0m: "
     ]
    },
    {
     "name": "stderr",
     "output_type": "stream",
     "text": [
      "Error occurred during asynchronous operation processing: Cannot log infinite or NaN value to attribute training/batch/loss\n"
     ]
    }
   ],
   "source": [
    "epochs = 10\n",
    "for t in range(epochs):\n",
    "    print(f\"Epoch {t+1}\\n-------------------------------\")\n",
    "    \n",
    "    train_loop(train_dataloader, model, loss, optimizer)    \n",
    "    test_loop(test_dataloader, model, loss)\n",
    "    test_loop(train_dataloader, model, loss, test_set = False)\n",
    "\n",
    "print(\"Done!\")"
   ]
  },
  {
   "cell_type": "code",
   "execution_count": null,
   "metadata": {},
   "outputs": [],
   "source": [
    "# Test the model, and inspect the errors\n",
    "from datetime import datetime\n",
    "now = datetime.now()\n",
    "\n",
    "print(f\"../trained_models/model_{now.strftime('%m_%d_%Y_%H_%M_%S')}\")\n",
    "\n",
    "model_scripted = torch.jit.script(model) # Export to TorchScript\n",
    "model_scripted.save(f\"../trained_models/model_{now.strftime('%m_%d_%Y_%H_%M_%S')}\") # Save\n",
    "\n"
   ]
  },
  {
   "cell_type": "code",
   "execution_count": 55,
   "metadata": {},
   "outputs": [
    {
     "name": "stdout",
     "output_type": "stream",
     "text": [
      "Shutting down background jobs, please wait a moment...\n",
      "Done!\n"
     ]
    },
    {
     "name": "stderr",
     "output_type": "stream",
     "text": [
      "Waiting for the remaining 1 operations to synchronize with Neptune. Do not kill this process.\n"
     ]
    },
    {
     "name": "stdout",
     "output_type": "stream",
     "text": [
      "All 1 operations synced, thanks for waiting!\n"
     ]
    }
   ],
   "source": [
    "run.stop() # Stop the neptune logging run"
   ]
  }
 ],
 "metadata": {
  "interpreter": {
   "hash": "31f2aee4e71d21fbe5cf8b01ff0e069b9275f58929596ceb00d14d90e3e16cd6"
  },
  "kernelspec": {
   "display_name": "Python 3.8.10 64-bit",
   "language": "python",
   "name": "python3"
  },
  "language_info": {
   "codemirror_mode": {
    "name": "ipython",
    "version": 3
   },
   "file_extension": ".py",
   "mimetype": "text/x-python",
   "name": "python",
   "nbconvert_exporter": "python",
   "pygments_lexer": "ipython3",
   "version": "3.8.10"
  },
  "orig_nbformat": 4
 },
 "nbformat": 4,
 "nbformat_minor": 2
}
